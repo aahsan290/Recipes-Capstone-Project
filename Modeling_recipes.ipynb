{
 "cells": [
  {
   "cell_type": "code",
   "execution_count": 1,
   "id": "e7bed09e-4fb5-49d2-a7d3-2e49014c61ed",
   "metadata": {},
   "outputs": [],
   "source": [
    "import pandas as pd\n",
    "import matplotlib.pyplot as plt\n",
    "import seaborn as sns\n",
    "import numpy as np\n",
    "\n",
    "from sklearn.preprocessing import LabelEncoder\n",
    "from sklearn.model_selection import train_test_split\n",
    "from sklearn.metrics.pairwise import cosine_similarity\n",
    "from sklearn.metrics import mean_squared_error"
   ]
  },
  {
   "cell_type": "code",
   "execution_count": 2,
   "id": "bc5ff409-b946-4688-8f5b-59ffafb385d8",
   "metadata": {},
   "outputs": [],
   "source": [
    "df = pd.read_csv('C:\\\\Users\\\\aahsa\\\\Downloads\\\\Recipes_Features.csv')"
   ]
  },
  {
   "cell_type": "markdown",
   "id": "a31670f5-6730-455d-ac0d-fc9fcd9dbaf5",
   "metadata": {},
   "source": [
    "**Define correlation:**"
   ]
  },
  {
   "cell_type": "code",
   "execution_count": 4,
   "id": "c9091a50-0a21-4278-abda-dca73a53f9c7",
   "metadata": {},
   "outputs": [
    {
     "name": "stdout",
     "output_type": "stream",
     "text": [
      "[[1.         0.42308548 0.82535909 ... 0.78895115 0.65405422 0.80264749]\n",
      " [0.42308548 1.         0.66038227 ... 0.78911139 0.61573453 0.84069069]\n",
      " [0.82535909 0.66038227 1.         ... 0.97372566 0.60597066 0.7839983 ]\n",
      " ...\n",
      " [0.78895115 0.78911139 0.97372566 ... 1.         0.61882256 0.85212293]\n",
      " [0.65405422 0.61573453 0.60597066 ... 0.61882256 1.         0.84484752]\n",
      " [0.80264749 0.84069069 0.7839983  ... 0.85212293 0.84484752 1.        ]]\n"
     ]
    }
   ],
   "source": [
    "# Define the features to be used for calculating cosine similarity\n",
    "features = ['MealType', 'Difficulty', 'CuisineType', 'Description', 'RecipeCategory', 'Keywords', 'RecipeIngredientQuantities', 'RecipeIngredientParts', 'RecipeInstructions', 'RecipeYield', 'AuthorName']\n",
    "\n",
    "# Initialize the LabelEncoder\n",
    "label_encoder = LabelEncoder()\n",
    "\n",
    "# Convert categorical columns to numeric\n",
    "categorical_columns = ['MealType', 'Difficulty', 'CuisineType', 'Description', 'RecipeCategory', 'Keywords', 'RecipeIngredientQuantities', 'RecipeIngredientParts', 'RecipeInstructions', 'RecipeYield', 'AuthorName']\n",
    "for col in categorical_columns:\n",
    "    df[col] = label_encoder.fit_transform(df[col])\n",
    "\n",
    "# Sample a subset of the data (e.g., 10,000 rows)\n",
    "df_sampled = df.sample(n=10000, random_state=42)\n",
    "\n",
    "# Calculate the cosine similarity matrix for the sampled data\n",
    "similarity_matrix = cosine_similarity(df_sampled[features])\n",
    "\n",
    "# Display the similarity matrix\n",
    "print(similarity_matrix)"
   ]
  },
  {
   "cell_type": "code",
   "execution_count": 5,
   "id": "86852043-2fac-49f8-be67-cae82aa47818",
   "metadata": {},
   "outputs": [
    {
     "name": "stdout",
     "output_type": "stream",
     "text": [
      "[1689  209 9153 5355 2976]\n",
      "      RecipeId                                   Name  AuthorId  CookTime  \\\n",
      "1689      5002                      Chocolate Cookies      1866     480.0   \n",
      "209        447               M&amp;m Super Snack Bars     60989    4500.0   \n",
      "9153     18794  Roasted Almonds with Southwest Spices     17608     900.0   \n",
      "5355     12646                     Cheddar Rum Spread     20371       1.0   \n",
      "2976      8393                 Strawberry Mousse Cake     47510       1.0   \n",
      "\n",
      "      PrepTime  TotalTime  Description  \\\n",
      "1689      1200       1680       115815   \n",
      "209       2400       6900       151708   \n",
      "9153       300       1200       173222   \n",
      "5355       300        300       110002   \n",
      "2976      1500       1500       185431   \n",
      "\n",
      "                                                 Images  RecipeCategory  \\\n",
      "1689                                       character(0)              78   \n",
      "209                                        character(0)              13   \n",
      "9153                                       character(0)             146   \n",
      "5355                                       character(0)             244   \n",
      "2976  c(\"https://img.sndimg.com/food/image/upload/w_...              78   \n",
      "\n",
      "      Keywords  ...  oil  powder  water  olive  milk  baking  cream  green  \\\n",
      "1689     37959  ...    0       1      0      0     0       0      0      0   \n",
      "209      53742  ...    0       1      0      0     0       1      0      0   \n",
      "9153     62668  ...    1       1      0      1     0       0      0      0   \n",
      "5355     24319  ...    0       0      0      0     0       0      0      1   \n",
      "2976    122306  ...    0       0      1      0     0       0      1      0   \n",
      "\n",
      "      chicken  sauce  \n",
      "1689        0      0  \n",
      "209         0      0  \n",
      "9153        0      0  \n",
      "5355        0      0  \n",
      "2976        0      0  \n",
      "\n",
      "[5 rows x 59 columns]\n"
     ]
    }
   ],
   "source": [
    "# Function to get recommendations\n",
    "def get_recommendations(recipe_id, n_recommendations=5):\n",
    "    # Get the similarity scores for the given recipe\n",
    "    similarity_scores = similarity_matrix[recipe_id]\n",
    "    # Get the indices of the most similar recipes\n",
    "    similar_indices = similarity_scores.argsort()[-(n_recommendations + 1):][::-1]\n",
    "    # Exclude the input recipe itself from the recommendations\n",
    "    similar_indices = similar_indices[similar_indices != recipe_id]\n",
    "    return similar_indices[:n_recommendations]\n",
    "\n",
    "# Example usage\n",
    "recipe_id = 6\n",
    "recommendations = get_recommendations(recipe_id)\n",
    "print(recommendations)\n",
    "\n",
    "# Display the recommended recipes\n",
    "recommended_recipes = df.iloc[recommendations]\n",
    "print(recommended_recipes)\n"
   ]
  },
  {
   "cell_type": "markdown",
   "id": "91bbc6b1-333e-475b-ac16-22cfa7622b76",
   "metadata": {},
   "source": [
    "**K-Nearest Neighbor - similarity based on feature.**"
   ]
  },
  {
   "cell_type": "code",
   "execution_count": 13,
   "id": "a64d7df6-3509-4a8e-b99a-46ca50e8ace2",
   "metadata": {},
   "outputs": [
    {
     "name": "stdout",
     "output_type": "stream",
     "text": [
      "[190306  88742 164575 224781  31116]\n"
     ]
    },
    {
     "name": "stderr",
     "output_type": "stream",
     "text": [
      "C:\\Users\\aahsa\\AppData\\Local\\anaconda3\\Lib\\site-packages\\sklearn\\base.py:439: UserWarning: X does not have valid feature names, but NearestNeighbors was fitted with feature names\n",
      "  warnings.warn(\n"
     ]
    }
   ],
   "source": [
    "from sklearn.neighbors import NearestNeighbors\n",
    "\n",
    "nn_model = NearestNeighbors(n_neighbors=5, algorithm='auto', metric='cosine')\n",
    "\n",
    "# Fit the model on the selected features\n",
    "nn_model.fit(df[features])\n",
    "\n",
    "# Function to get recommendations\n",
    "def get_recommendations(recipe_id, n_recommendations=5):\n",
    "    # Get the feature vector for the given recipe\n",
    "    recipe_vector = df.loc[recipe_id, features].values.reshape(1, -1)\n",
    "    \n",
    "    # Find the nearest neighbors\n",
    "    distances, indices = nn_model.kneighbors(recipe_vector, n_neighbors=n_recommendations+1)\n",
    "    \n",
    "    # Exclude the input recipe itself from the recommendations\n",
    "    similar_recipes = indices.flatten()[1:]\n",
    "    \n",
    "    return similar_recipes\n",
    "\n",
    "# Example usage\n",
    "recipe_id = 6\n",
    "recommendations = get_recommendations(recipe_id)\n",
    "print(recommendations)"
   ]
  },
  {
   "cell_type": "code",
   "execution_count": 15,
   "id": "b13bcb54-fd35-4e61-bae4-80ab5a3e21fa",
   "metadata": {},
   "outputs": [
    {
     "name": "stdout",
     "output_type": "stream",
     "text": [
      "        RecipeId                          Name  AuthorId  CookTime  PrepTime  \\\n",
      "190306    318937  Mom's Famous Oatmeal Cookies    437991     900.0       600   \n",
      "88742     154332           Creamy Cheese Grits    282965     900.0       600   \n",
      "164575    277990      Creamy Rice and Broccoli    721861    1200.0       600   \n",
      "224781    374800                 Spinach Pasta    517443     420.0       900   \n",
      "31116      56134                  Cheese Grits     19044     300.0       600   \n",
      "\n",
      "        TotalTime  Description  \\\n",
      "190306       1500        71911   \n",
      "88742        1500       122019   \n",
      "164575       1800       122641   \n",
      "224781       1320        90955   \n",
      "31116         900       110188   \n",
      "\n",
      "                                                   Images  RecipeCategory  \\\n",
      "190306  \"https://img.sndimg.com/food/image/upload/w_55...              78   \n",
      "88742                                        character(0)              31   \n",
      "164575                                       character(0)             284   \n",
      "224781  \"https://img.sndimg.com/food/image/upload/w_55...             176   \n",
      "31116                                        character(0)              31   \n",
      "\n",
      "        Keywords  ...  oil  powder  water  olive  milk  baking  cream  green  \\\n",
      "190306     40044  ...    0       0      0      0     1       0      0      0   \n",
      "88742      65016  ...    0       0      1      0     0       0      0      0   \n",
      "164575     76544  ...    0       1      1      0     0       0      0      0   \n",
      "224781     57542  ...    0       0      0      0     0       0      0      0   \n",
      "31116      76802  ...    0       1      1      0     0       0      0      0   \n",
      "\n",
      "        chicken  sauce  \n",
      "190306        0      0  \n",
      "88742         0      0  \n",
      "164575        0      0  \n",
      "224781        0      0  \n",
      "31116         0      0  \n",
      "\n",
      "[5 rows x 59 columns]\n"
     ]
    }
   ],
   "source": [
    "# Display the recommended recipes\n",
    "recommended_recipes = df.iloc[recommendations]\n",
    "print(recommended_recipes)\n"
   ]
  },
  {
   "cell_type": "markdown",
   "id": "a91478fb-0ffa-4c2c-9b10-c3f034c6adcc",
   "metadata": {},
   "source": [
    "**INGREDIENT BASED FEATURES:**"
   ]
  },
  {
   "cell_type": "code",
   "execution_count": 26,
   "id": "d2104c20-a2d5-4798-9767-9cd8ad492999",
   "metadata": {},
   "outputs": [],
   "source": [
    "from sklearn.feature_extraction.text import TfidfVectorizer\n",
    "# Ensure that the 'RecipeIngredientParts' column is properly formatted\n",
    "def parse_ingredients(ingredient_str):\n",
    "    try:\n",
    "        # Attempt to evaluate the string as a list\n",
    "        ingredients = eval(ingredient_str)\n",
    "        if isinstance(ingredients, list):\n",
    "            return ingredients\n",
    "        else:\n",
    "            return []\n",
    "    except:\n",
    "        return []"
   ]
  },
  {
   "cell_type": "code",
   "execution_count": 36,
   "id": "b538ccbe-256b-4945-89ee-1813823f014a",
   "metadata": {},
   "outputs": [],
   "source": [
    "from scipy.sparse import csr_matrix\n",
    "\n",
    "df['RecipeIngredientParts'] = df['RecipeIngredientParts'].apply(parse_ingredients)\n",
    "\n",
    "# Combine all ingredient parts into a single string for each recipe\n",
    "df['Ingredients'] = df['RecipeIngredientParts'].apply(lambda x: ' '.join(x) if x else '')\n",
    "\n",
    "# Check for empty ingredient strings and handle them\n",
    "df['Ingredients'] = df['Ingredients'].replace('', 'no_ingredients')\n",
    "\n",
    "# Sample a subset of the data (e.g., 10,000 rows)\n",
    "df_sampled = df.sample(n=10000, random_state=42)\n",
    "\n",
    "# Use TF-IDF to convert the ingredient text into numerical features\n",
    "tfidf_vectorizer = TfidfVectorizer(stop_words='english')\n",
    "ingredient_features = tfidf_vectorizer.fit_transform(df_sampled['Ingredients'])\n",
    "\n",
    "# Convert the TF-IDF features to a sparse matrix\n",
    "ingredient_features_sparse = csr_matrix(ingredient_features)\n",
    "\n",
    "# Calculate the cosine similarity matrix based on ingredient features\n",
    "ingredient_similarity_matrix = cosine_similarity(ingredient_features_sparse)"
   ]
  },
  {
   "cell_type": "code",
   "execution_count": 38,
   "id": "f2a1ccdb-7aab-4ff6-9d0d-63acd11d50e6",
   "metadata": {},
   "outputs": [
    {
     "name": "stdout",
     "output_type": "stream",
     "text": [
      "[9999 3329 3336 3335 3334]\n",
      "      RecipeId                            Name  AuthorId  CookTime  PrepTime  \\\n",
      "9999     20209  Chicken - Artichoke Sandwiches      5060    1080.0       600   \n",
      "3329      8985       Fried Macaroni and Cheese      2178    1800.0       900   \n",
      "3336      8997                     Turkey Loaf      9441    3000.0       300   \n",
      "3335      8995                Chocolate Mousse      9045     300.0       900   \n",
      "3334      8994                      Rose Lassi      6357       1.0       600   \n",
      "\n",
      "      TotalTime  Description  \\\n",
      "9999       1680       111894   \n",
      "3329       2700       132967   \n",
      "3336       3300       277774   \n",
      "3335       1200          943   \n",
      "3334        600       174282   \n",
      "\n",
      "                                                 Images  RecipeCategory  \\\n",
      "9999  c(\"https://img.sndimg.com/food/image/upload/w_...             146   \n",
      "3329                                       character(0)              47   \n",
      "3336                                       character(0)             146   \n",
      "3335  c(\"https://img.sndimg.com/food/image/upload/w_...              78   \n",
      "3334                                       character(0)             145   \n",
      "\n",
      "      Keywords  ...  powder water  olive  milk  baking  cream  green  chicken  \\\n",
      "9999     32245  ...       0     0      0     0       0      0      0        0   \n",
      "3329       510  ...       0     1      0     0       0      0      0        0   \n",
      "3336    111901  ...       0     1      0     0       0      0      0        0   \n",
      "3335     58244  ...       0     1      0     0       0      0      0        0   \n",
      "3334     76792  ...       1     1      0     0       0      0      0        0   \n",
      "\n",
      "      sauce     Ingredients  \n",
      "9999      0  no_ingredients  \n",
      "3329      0  no_ingredients  \n",
      "3336      0  no_ingredients  \n",
      "3335      0  no_ingredients  \n",
      "3334      0  no_ingredients  \n",
      "\n",
      "[5 rows x 60 columns]\n"
     ]
    }
   ],
   "source": [
    "# Function to get ingredient-based recommendations\n",
    "def get_ingredient_recommendations(recipe_id, n_recommendations=5):\n",
    "    # Get the similarity scores for the given recipe\n",
    "    similarity_scores = ingredient_similarity_matrix[recipe_id]\n",
    "    # Get the indices of the most similar recipes\n",
    "    similar_indices = similarity_scores.argsort()[-(n_recommendations + 1):][::-1]\n",
    "    # Exclude the input recipe itself from the recommendations\n",
    "    similar_indices = similar_indices[similar_indices != recipe_id]\n",
    "    return similar_indices[:n_recommendations]\n",
    "\n",
    "# Example usage\n",
    "recipe_id = 6\n",
    "ingredient_recommendations = get_ingredient_recommendations(recipe_id)\n",
    "print(ingredient_recommendations)\n",
    "\n",
    "# Display the recommended recipes\n",
    "recommended_recipes = df.iloc[ingredient_recommendations]\n",
    "print(recommended_recipes)"
   ]
  },
  {
   "cell_type": "markdown",
   "id": "ac230588-f8e0-4a11-8203-158086ade6c4",
   "metadata": {},
   "source": [
    "**Model Based On Reviews:**"
   ]
  },
  {
   "cell_type": "code",
   "execution_count": 91,
   "id": "8330c9fb-ae17-46ad-9f97-6ce3f2d18d74",
   "metadata": {},
   "outputs": [],
   "source": [
    "# Normalize the AggregatedRating and ReviewCount columns\n",
    "df['NormalizedRating'] = df['AggregatedRating'] / df['AggregatedRating'].max()\n",
    "df['NormalizedReviewCount'] = df['ReviewCount'] / df['ReviewCount'].max()\n",
    "\n",
    "# Create a combined popularity score\n",
    "df['Popularity'] = df['NormalizedRating'] + df['NormalizedReviewCount']"
   ]
  },
  {
   "cell_type": "code",
   "execution_count": 93,
   "id": "dc55312c-46a0-43bd-971b-bcd762ad73ec",
   "metadata": {},
   "outputs": [
    {
     "name": "stdout",
     "output_type": "stream",
     "text": [
      "       RecipeId                                     Name  Popularity\n",
      "785        2886                        Best Banana Bread    2.000000\n",
      "19529     35813                   Oatmeal Raisin Cookies    1.620326\n",
      "30070     54257  Yes, Virginia There is a Great Meatloaf    1.608887\n",
      "13303     25690                                 Pancakes    1.505939\n",
      "41235     73440                               Beer Bread    1.457545\n"
     ]
    }
   ],
   "source": [
    "# Function to recommend recipes based on popularity\n",
    "def recommend_recipes(n_recommendations=5):\n",
    "    # Sort the recipes by popularity score in descending order\n",
    "    recommended_recipes = df.sort_values(by='Popularity', ascending=False).head(n_recommendations)\n",
    "    return recommended_recipes\n",
    "\n",
    "# Example usage\n",
    "recommendations = recommend_recipes()\n",
    "print(recommendations[['RecipeId', 'Name', 'Popularity']])\n"
   ]
  },
  {
   "cell_type": "code",
   "execution_count": null,
   "id": "ac92a153-9225-407b-b197-bb5bee5ecc59",
   "metadata": {},
   "outputs": [],
   "source": [
    "df.to_csv('Recipes_Model.csv', index=False)"
   ]
  },
  {
   "cell_type": "code",
   "execution_count": null,
   "id": "b8ec39ef-aa49-4979-87bf-228d0cf58fa4",
   "metadata": {},
   "outputs": [],
   "source": []
  }
 ],
 "metadata": {
  "kernelspec": {
   "display_name": "Python 3 (ipykernel)",
   "language": "python",
   "name": "python3"
  },
  "language_info": {
   "codemirror_mode": {
    "name": "ipython",
    "version": 3
   },
   "file_extension": ".py",
   "mimetype": "text/x-python",
   "name": "python",
   "nbconvert_exporter": "python",
   "pygments_lexer": "ipython3",
   "version": "3.11.7"
  }
 },
 "nbformat": 4,
 "nbformat_minor": 5
}
