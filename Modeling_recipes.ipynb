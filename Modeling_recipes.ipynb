{
 "cells": [
  {
   "cell_type": "code",
   "execution_count": 17,
   "id": "e7bed09e-4fb5-49d2-a7d3-2e49014c61ed",
   "metadata": {},
   "outputs": [],
   "source": [
    "import pandas as pd\n",
    "import matplotlib.pyplot as plt\n",
    "import seaborn as sns\n",
    "\n",
    "from sklearn.model_selection import train_test_split\n",
    "from sklearn.ensemble import RandomForestRegressor\n",
    "from sklearn.metrics import mean_squared_error"
   ]
  },
  {
   "cell_type": "code",
   "execution_count": 19,
   "id": "bc5ff409-b946-4688-8f5b-59ffafb385d8",
   "metadata": {},
   "outputs": [],
   "source": [
    "df = pd.read_csv('C:\\\\Users\\\\aahsa\\\\Downloads\\\\Recipes_Features.csv')"
   ]
  },
  {
   "cell_type": "code",
   "execution_count": 20,
   "id": "518e9b00-b489-446c-a6b4-80ea520a9fc1",
   "metadata": {},
   "outputs": [
    {
     "data": {
      "text/html": [
       "<div>\n",
       "<style scoped>\n",
       "    .dataframe tbody tr th:only-of-type {\n",
       "        vertical-align: middle;\n",
       "    }\n",
       "\n",
       "    .dataframe tbody tr th {\n",
       "        vertical-align: top;\n",
       "    }\n",
       "\n",
       "    .dataframe thead th {\n",
       "        text-align: right;\n",
       "    }\n",
       "</style>\n",
       "<table border=\"1\" class=\"dataframe\">\n",
       "  <thead>\n",
       "    <tr style=\"text-align: right;\">\n",
       "      <th></th>\n",
       "      <th>RecipeId</th>\n",
       "      <th>Name</th>\n",
       "      <th>AuthorId</th>\n",
       "      <th>CookTime</th>\n",
       "      <th>PrepTime</th>\n",
       "      <th>TotalTime</th>\n",
       "      <th>Description</th>\n",
       "      <th>Images</th>\n",
       "      <th>RecipeCategory</th>\n",
       "      <th>Keywords</th>\n",
       "      <th>...</th>\n",
       "      <th>ProteinContent</th>\n",
       "      <th>RecipeServings</th>\n",
       "      <th>RecipeYield</th>\n",
       "      <th>AuthorName</th>\n",
       "      <th>NormalizedRating</th>\n",
       "      <th>dairy-free</th>\n",
       "      <th>gluten-free</th>\n",
       "      <th>low-carb</th>\n",
       "      <th>vegan</th>\n",
       "      <th>vegetarian</th>\n",
       "    </tr>\n",
       "  </thead>\n",
       "  <tbody>\n",
       "    <tr>\n",
       "      <th>0</th>\n",
       "      <td>38</td>\n",
       "      <td>Low-Fat Berry Blue Frozen Dessert</td>\n",
       "      <td>1533</td>\n",
       "      <td>86400.0</td>\n",
       "      <td>2700</td>\n",
       "      <td>89100</td>\n",
       "      <td>Make and share this Low-Fat Berry Blue Frozen ...</td>\n",
       "      <td>c(\"https://img.sndimg.com/food/image/upload/w_...</td>\n",
       "      <td>Frozen Desserts</td>\n",
       "      <td>c(\"Dessert\", \"Low Protein\", \"Low Cholesterol\",...</td>\n",
       "      <td>...</td>\n",
       "      <td>3.2</td>\n",
       "      <td>4.0</td>\n",
       "      <td>1.0</td>\n",
       "      <td>Dancer</td>\n",
       "      <td>0.875</td>\n",
       "      <td>0</td>\n",
       "      <td>0</td>\n",
       "      <td>0</td>\n",
       "      <td>0</td>\n",
       "      <td>0</td>\n",
       "    </tr>\n",
       "    <tr>\n",
       "      <th>1</th>\n",
       "      <td>42</td>\n",
       "      <td>Cabbage Soup</td>\n",
       "      <td>1538</td>\n",
       "      <td>1800.0</td>\n",
       "      <td>1200</td>\n",
       "      <td>3000</td>\n",
       "      <td>Make and share this Cabbage Soup recipe from F...</td>\n",
       "      <td>\"https://img.sndimg.com/food/image/upload/w_55...</td>\n",
       "      <td>Vegetable</td>\n",
       "      <td>c(\"Low Protein\", \"Vegan\", \"Low Cholesterol\", \"...</td>\n",
       "      <td>...</td>\n",
       "      <td>4.3</td>\n",
       "      <td>4.0</td>\n",
       "      <td>1.0</td>\n",
       "      <td>Duckie067</td>\n",
       "      <td>0.875</td>\n",
       "      <td>0</td>\n",
       "      <td>0</td>\n",
       "      <td>0</td>\n",
       "      <td>0</td>\n",
       "      <td>0</td>\n",
       "    </tr>\n",
       "    <tr>\n",
       "      <th>2</th>\n",
       "      <td>45</td>\n",
       "      <td>Buttermilk Pie With Gingersnap Crumb Crust</td>\n",
       "      <td>1580</td>\n",
       "      <td>3000.0</td>\n",
       "      <td>1800</td>\n",
       "      <td>4800</td>\n",
       "      <td>Make and share this Buttermilk Pie With Ginger...</td>\n",
       "      <td>\"https://img.sndimg.com/food/image/upload/w_55...</td>\n",
       "      <td>Pie</td>\n",
       "      <td>c(\"Dessert\", \"Healthy\", \"Weeknight\", \"Oven\", \"...</td>\n",
       "      <td>...</td>\n",
       "      <td>4.2</td>\n",
       "      <td>8.0</td>\n",
       "      <td>1.0</td>\n",
       "      <td>tristitia</td>\n",
       "      <td>0.750</td>\n",
       "      <td>0</td>\n",
       "      <td>0</td>\n",
       "      <td>0</td>\n",
       "      <td>0</td>\n",
       "      <td>0</td>\n",
       "    </tr>\n",
       "    <tr>\n",
       "      <th>3</th>\n",
       "      <td>46</td>\n",
       "      <td>A Jad - Cucumber Pickle</td>\n",
       "      <td>1533</td>\n",
       "      <td>1.0</td>\n",
       "      <td>1500</td>\n",
       "      <td>1500</td>\n",
       "      <td>Make and share this A Jad - Cucumber Pickle re...</td>\n",
       "      <td>character(0)</td>\n",
       "      <td>Vegetable</td>\n",
       "      <td>c(\"Thai\", \"Asian\", \"Free Of...\", \"&lt; 30 Mins\")</td>\n",
       "      <td>...</td>\n",
       "      <td>0.1</td>\n",
       "      <td>1.0</td>\n",
       "      <td>1 cup</td>\n",
       "      <td>Dancer</td>\n",
       "      <td>1.000</td>\n",
       "      <td>0</td>\n",
       "      <td>0</td>\n",
       "      <td>0</td>\n",
       "      <td>0</td>\n",
       "      <td>0</td>\n",
       "    </tr>\n",
       "    <tr>\n",
       "      <th>4</th>\n",
       "      <td>47</td>\n",
       "      <td>Butter Pecan Cookies</td>\n",
       "      <td>1573</td>\n",
       "      <td>540.0</td>\n",
       "      <td>3300</td>\n",
       "      <td>3840</td>\n",
       "      <td>Make and share this Butter Pecan Cookies recip...</td>\n",
       "      <td>c(\"https://img.sndimg.com/food/image/upload/w_...</td>\n",
       "      <td>Dessert</td>\n",
       "      <td>c(\"Cookie &amp; Brownie\", \"Fruit\", \"Nuts\", \"Weekni...</td>\n",
       "      <td>...</td>\n",
       "      <td>0.8</td>\n",
       "      <td>1.0</td>\n",
       "      <td>84 cookies</td>\n",
       "      <td>benluc</td>\n",
       "      <td>0.750</td>\n",
       "      <td>0</td>\n",
       "      <td>0</td>\n",
       "      <td>0</td>\n",
       "      <td>0</td>\n",
       "      <td>0</td>\n",
       "    </tr>\n",
       "  </tbody>\n",
       "</table>\n",
       "<p>5 rows × 33 columns</p>\n",
       "</div>"
      ],
      "text/plain": [
       "   RecipeId                                        Name  AuthorId  CookTime  \\\n",
       "0        38           Low-Fat Berry Blue Frozen Dessert      1533   86400.0   \n",
       "1        42                                Cabbage Soup      1538    1800.0   \n",
       "2        45  Buttermilk Pie With Gingersnap Crumb Crust      1580    3000.0   \n",
       "3        46                     A Jad - Cucumber Pickle      1533       1.0   \n",
       "4        47                        Butter Pecan Cookies      1573     540.0   \n",
       "\n",
       "   PrepTime  TotalTime                                        Description  \\\n",
       "0      2700      89100  Make and share this Low-Fat Berry Blue Frozen ...   \n",
       "1      1200       3000  Make and share this Cabbage Soup recipe from F...   \n",
       "2      1800       4800  Make and share this Buttermilk Pie With Ginger...   \n",
       "3      1500       1500  Make and share this A Jad - Cucumber Pickle re...   \n",
       "4      3300       3840  Make and share this Butter Pecan Cookies recip...   \n",
       "\n",
       "                                              Images   RecipeCategory  \\\n",
       "0  c(\"https://img.sndimg.com/food/image/upload/w_...  Frozen Desserts   \n",
       "1  \"https://img.sndimg.com/food/image/upload/w_55...        Vegetable   \n",
       "2  \"https://img.sndimg.com/food/image/upload/w_55...              Pie   \n",
       "3                                       character(0)        Vegetable   \n",
       "4  c(\"https://img.sndimg.com/food/image/upload/w_...          Dessert   \n",
       "\n",
       "                                            Keywords  ... ProteinContent  \\\n",
       "0  c(\"Dessert\", \"Low Protein\", \"Low Cholesterol\",...  ...            3.2   \n",
       "1  c(\"Low Protein\", \"Vegan\", \"Low Cholesterol\", \"...  ...            4.3   \n",
       "2  c(\"Dessert\", \"Healthy\", \"Weeknight\", \"Oven\", \"...  ...            4.2   \n",
       "3      c(\"Thai\", \"Asian\", \"Free Of...\", \"< 30 Mins\")  ...            0.1   \n",
       "4  c(\"Cookie & Brownie\", \"Fruit\", \"Nuts\", \"Weekni...  ...            0.8   \n",
       "\n",
       "  RecipeServings RecipeYield  AuthorName  NormalizedRating  dairy-free  \\\n",
       "0            4.0         1.0      Dancer             0.875           0   \n",
       "1            4.0         1.0   Duckie067             0.875           0   \n",
       "2            8.0         1.0   tristitia             0.750           0   \n",
       "3            1.0       1 cup      Dancer             1.000           0   \n",
       "4            1.0  84 cookies      benluc             0.750           0   \n",
       "\n",
       "   gluten-free  low-carb  vegan  vegetarian  \n",
       "0            0         0      0           0  \n",
       "1            0         0      0           0  \n",
       "2            0         0      0           0  \n",
       "3            0         0      0           0  \n",
       "4            0         0      0           0  \n",
       "\n",
       "[5 rows x 33 columns]"
      ]
     },
     "execution_count": 20,
     "metadata": {},
     "output_type": "execute_result"
    }
   ],
   "source": [
    "df.head()"
   ]
  },
  {
   "cell_type": "code",
   "execution_count": 31,
   "id": "73eb44f4-4a04-4eda-a226-d1dc0d423ccb",
   "metadata": {},
   "outputs": [],
   "source": [
    "df['PrepTimeCategory'] = df['CookTime'].apply(lambda x: 'Quick' if x < 60 else ('Moderate' if 60 <= x <= 120 else 'Long'))"
   ]
  },
  {
   "cell_type": "code",
   "execution_count": 22,
   "id": "b22c087c-4f5c-481c-953a-11ad237e42e1",
   "metadata": {},
   "outputs": [],
   "source": [
    "df = pd.get_dummies(df, columns=['PrepTimeCategory'], prefix='PrepTime')\n",
    "# Ensure all dummy columns exist\n",
    "for col in ['PrepTime_Quick', 'PrepTime_Moderate', 'PrepTime_Long']:\n",
    "    if col not in df.columns:\n",
    "        df[col] = 0"
   ]
  },
  {
   "cell_type": "code",
   "execution_count": 23,
   "id": "e7c2813d-27a5-4e53-96af-8078b2aea2e6",
   "metadata": {},
   "outputs": [
    {
     "name": "stdout",
     "output_type": "stream",
     "text": [
      "   TotalTime  PrepTime_Quick  PrepTime_Moderate  PrepTime_Long\n",
      "0      89100               0                  0              1\n",
      "1       3000               0                  0              1\n",
      "2       4800               0                  0              1\n",
      "3       1500               1                  0              0\n",
      "4       3840               0                  0              1\n"
     ]
    }
   ],
   "source": [
    "df['PrepTime_Quick'] = df['PrepTime_Quick'].astype(int)\n",
    "df['PrepTime_Moderate'] = df['PrepTime_Moderate'].astype(int)\n",
    "df['PrepTime_Long'] = df['PrepTime_Long'].astype(int)\n",
    "print(df[['TotalTime', 'PrepTime_Quick', 'PrepTime_Moderate', 'PrepTime_Long']].head())\n"
   ]
  },
  {
   "cell_type": "code",
   "execution_count": 33,
   "id": "cf13b02a-6115-4216-b944-6c8f404e1601",
   "metadata": {},
   "outputs": [
    {
     "data": {
      "image/png": "[encoded data removed]",
      "text/plain": [
       "<Figure size 1000x600 with 1 Axes>"
      ]
     },
     "metadata": {},
     "output_type": "display_data"
    }
   ],
   "source": [
    "# Plot the Bar Plot\n",
    "plt.figure(figsize=(10, 6))\n",
    "sns.countplot(data=df, x='PrepTimeCategory', palette='viridis')\n",
    "plt.title('Distribution of Preparation Time Categories')\n",
    "plt.xlabel('Preparation Time Category')\n",
    "plt.ylabel('Number of Recipes')\n",
    "plt.show()"
   ]
  },
  {
   "cell_type": "code",
   "execution_count": 39,
   "id": "22c5d44e-7bd3-4307-b6de-dace0762335f",
   "metadata": {},
   "outputs": [],
   "source": [
    "df['PrepTimeCategory'] = df['CookTime'].apply(lambda x: 'Quick' if x < 30 else ('Moderate' if 30 <= x <= 60 else ('Long' if x > 120 else 'Moderate')))\n",
    "df = pd.get_dummies(df, columns=['PrepTimeCategory'], prefix='PrepTime')\n",
    "df['PrepTime_Quick'] = df['PrepTime_Quick'].astype(int)\n",
    "df['PrepTime_Moderate'] = df['PrepTime_Moderate'].astype(int)\n",
    "df['PrepTime_Long'] = df['PrepTime_Long'].astype(int)"
   ]
  },
  {
   "cell_type": "code",
   "execution_count": 43,
   "id": "aebb1d00-ed50-49ea-aaf5-7ed6f98c8143",
   "metadata": {},
   "outputs": [],
   "source": [
    "def categorize_cuisine(Keywords, RecipeCategory):\n",
    "    if 'Italian' in Keywords or 'Italian' in RecipeCategory:\n",
    "        return 'Italian'\n",
    "    elif 'Mexican' in Keywords or 'Mexican' in RecipeCategory:\n",
    "        return 'Mexican'\n",
    "    elif 'Chinese' in Keywords or 'Chinese' in RecipeCategory:\n",
    "        return 'Chinese'\n",
    "    elif 'Indian' in Keywords or 'Indian' in RecipeCategory:\n",
    "        return 'Indian'\n",
    "    elif 'Japanese' in Keywords or 'Japanese' in RecipeCategory:\n",
    "        return 'Japanese'\n",
    "    elif 'Thai' in Keywords or 'Thai' in RecipeCategory:\n",
    "        return 'Thai'\n",
    "    elif 'Asian' in Keywords or 'Asian' in RecipeCategory:\n",
    "        return 'Asian'\n",
    "    elif 'Persian' in Keywords or 'Persian' in RecipeCategory:\n",
    "        return 'Persian'\n",
    "    elif 'American' in Keywords or 'American' in RecipeCategory:\n",
    "        return 'American'\n",
    "    elif 'middle East' in Keywords or 'middle East' in RecipeCategory:\n",
    "        return 'Middle East'\n",
    "    else:\n",
    "        return 'Other'\n"
   ]
  },
  {
   "cell_type": "code",
   "execution_count": 45,
   "id": "04f6e51b-3d91-4c3d-9c7a-52375100fee1",
   "metadata": {},
   "outputs": [
    {
     "name": "stdout",
     "output_type": "stream",
     "text": [
      "                                            Keywords   RecipeCategory  \\\n",
      "0  c(\"Dessert\", \"Low Protein\", \"Low Cholesterol\",...  Frozen Desserts   \n",
      "1  c(\"Low Protein\", \"Vegan\", \"Low Cholesterol\", \"...        Vegetable   \n",
      "2  c(\"Dessert\", \"Healthy\", \"Weeknight\", \"Oven\", \"...              Pie   \n",
      "3      c(\"Thai\", \"Asian\", \"Free Of...\", \"< 30 Mins\")        Vegetable   \n",
      "4  c(\"Cookie & Brownie\", \"Fruit\", \"Nuts\", \"Weekni...          Dessert   \n",
      "\n",
      "  CuisineType  \n",
      "0       Other  \n",
      "1       Other  \n",
      "2       Other  \n",
      "3        Thai  \n",
      "4       Other  \n"
     ]
    }
   ],
   "source": [
    "df['CuisineType'] = df.apply(lambda row: categorize_cuisine(row['Keywords'], row['RecipeCategory']), axis=1)\n",
    "print(df[['Keywords', 'RecipeCategory', 'CuisineType']].head(5))"
   ]
  },
  {
   "cell_type": "code",
   "execution_count": 69,
   "id": "b661eff5-7d5c-4c8c-87ef-834b6d447f4b",
   "metadata": {
    "scrolled": true
   },
   "outputs": [
    {
     "name": "stdout",
     "output_type": "stream",
     "text": [
      "        RecipeId                                Name    AuthorId  CookTime  \\\n",
      "58           159                       Chicken Curry      148316    2520.0   \n",
      "94           236                    Chicken Curry II        1597       1.0   \n",
      "321          675                  Curried Chicken II        1543       1.0   \n",
      "605         2490                      Cucumber Raita        1533       1.0   \n",
      "684         2673           West Indian Bread Pudding        1549       1.0   \n",
      "...          ...                                 ...         ...       ...   \n",
      "324980    540873  Charishma's Gur Ki Roti With Khoya        6357    2100.0   \n",
      "325020    540939                   Chettinad Chicken       78626    1800.0   \n",
      "325047    540977      INDIAN BASMATI With DRY FRUITS  2001004241    1800.0   \n",
      "325143    541143          Instant Rava Dhokla Recipe  2002835253     120.0   \n",
      "325260    541356       Masala Maggi Noodles in a Mug  2002835253     240.0   \n",
      "\n",
      "        PrepTime  TotalTime  \\\n",
      "58          3900       6420   \n",
      "94          3600       3600   \n",
      "321         3300       3300   \n",
      "605            0          0   \n",
      "684            0          0   \n",
      "...          ...        ...   \n",
      "324980      1200       3300   \n",
      "325020       900       2700   \n",
      "325047       600       2400   \n",
      "325143       600        720   \n",
      "325260       600        840   \n",
      "\n",
      "                                              Description  \\\n",
      "58      Accompany curry with  pappadams and chutney.  ...   \n",
      "94      This is a very mild chicken curry, very suitab...   \n",
      "321     Make and share this Curried Chicken II recipe ...   \n",
      "605     Make and share this Cucumber Raita recipe from...   \n",
      "684     Make and share this West Indian Bread Pudding ...   \n",
      "...                                                   ...   \n",
      "324980  This roti or Indian flatbread is a super favou...   \n",
      "325020  From Rick Stein's awesome India cookbook. Uses...   \n",
      "325047  This recipe puts a delicious twist on &ldquo;e...   \n",
      "325143  The recipe of Instant Rava Dhokla is one of th...   \n",
      "325260  Maggi Noodles is a simple easy-to-make and del...   \n",
      "\n",
      "                                                   Images RecipeCategory  \\\n",
      "58      c(\"https://img.sndimg.com/food/image/upload/w_...        Curries   \n",
      "94                                           character(0)  Whole Chicken   \n",
      "321                                          character(0)  Whole Chicken   \n",
      "605                                          character(0)          Asian   \n",
      "684                                          character(0)        Dessert   \n",
      "...                                                   ...            ...   \n",
      "324980                                       character(0)         Indian   \n",
      "325020                                       character(0)        Chicken   \n",
      "325047  \"https://img.sndimg.com/food/image/upload/w_55...         Indian   \n",
      "325143  c(\"https://img.sndimg.com/food/image/upload/w_...      Breakfast   \n",
      "325260  c(\"https://img.sndimg.com/food/image/upload/w_...         Indian   \n",
      "\n",
      "                                                 Keywords  ... oil powder  \\\n",
      "58      c(\"Chicken\", \"Poultry\", \"Meat\", \"Asian\", \"Indi...  ...   0      0   \n",
      "94      c(\"Chicken\", \"Poultry\", \"Meat\", \"Asian\", \"Indi...  ...   0      1   \n",
      "321     c(\"Chicken\", \"Poultry\", \"Meat\", \"Asian\", \"Indi...  ...   1      1   \n",
      "605     c(\"Indian\", \"Low Protein\", \"Low Cholesterol\", ...  ...   0      0   \n",
      "684     c(\"Asian\", \"Indian\", \"Low Cholesterol\", \"Healt...  ...   0      0   \n",
      "...                                                   ...  ...  ..    ...   \n",
      "324980                                        \"< 60 Mins\"  ...   0      1   \n",
      "325020  c(\"Poultry\", \"Meat\", \"Indian\", \"< 60 Mins\", \"S...  ...   0      1   \n",
      "325047              c(\"< 60 Mins\", \"Easy\", \"Inexpensive\")  ...   1      0   \n",
      "325143                   c(\"Indian\", \"< 15 Mins\", \"Easy\")  ...   0      1   \n",
      "325260                             c(\"< 15 Mins\", \"Easy\")  ...   0      0   \n",
      "\n",
      "       water  olive  milk  baking  cream  green  chicken  sauce  \n",
      "58         0      0     0       0      0      0        1      0  \n",
      "94         0      0     0       0      0      0        1      0  \n",
      "321        1      0     0       0      0      0        1      0  \n",
      "605        0      0     0       0      0      0        0      0  \n",
      "684        0      0     1       0      0      0        0      0  \n",
      "...      ...    ...   ...     ...    ...    ...      ...    ...  \n",
      "324980     1      0     1       0      0      1        0      0  \n",
      "325020     1      0     0       0      0      1        1      0  \n",
      "325047     0      1     0       0      0      0        1      0  \n",
      "325143     0      0     0       1      0      1        0      0  \n",
      "325260     1      0     0       0      0      1        0      0  \n",
      "\n",
      "[3652 rows x 67 columns]\n"
     ]
    }
   ],
   "source": [
    "#Testing the feature:\n",
    "indian_recipes = df[df['CuisineType'] == 'Indian']\n",
    "print(indian_recipes)"
   ]
  },
  {
   "cell_type": "code",
   "execution_count": 47,
   "id": "3817b110-f71b-47c2-98e3-07c9fa260e83",
   "metadata": {},
   "outputs": [],
   "source": [
    "# Assuming your DataFrame is named df and the target variable is 'target'\n",
    "X = df[['CuisineType']]\n",
    "y = df['AggregatedRating']  # Replace 'target' with your actual target variable\n",
    "\n",
    "# Convert categorical feature 'CuisineType' to numerical using one-hot encoding\n",
    "X = pd.get_dummies(X, columns=['CuisineType'])\n",
    "\n",
    "# Split the data into training and testing sets\n",
    "X_train, X_test, y_train, y_test = train_test_split(X, y, test_size=0.2, random_state=42)\n"
   ]
  },
  {
   "cell_type": "code",
   "execution_count": 48,
   "id": "1837d888-f162-44cc-93dd-61a6620e4154",
   "metadata": {},
   "outputs": [
    {
     "data": {
      "text/html": [
       "<style>#sk-container-id-1 {color: black;background-color: white;}#sk-container-id-1 pre{padding: 0;}#sk-container-id-1 div.sk-toggleable {background-color: white;}#sk-container-id-1 label.sk-toggleable__label {cursor: pointer;display: block;width: 100%;margin-bottom: 0;padding: 0.3em;box-sizing: border-box;text-align: center;}#sk-container-id-1 label.sk-toggleable__label-arrow:before {content: \"▸\";float: left;margin-right: 0.25em;color: #696969;}#sk-container-id-1 label.sk-toggleable__label-arrow:hover:before {color: black;}#sk-container-id-1 div.sk-estimator:hover label.sk-toggleable__label-arrow:before {color: black;}#sk-container-id-1 div.sk-toggleable__content {max-height: 0;max-width: 0;overflow: hidden;text-align: left;background-color: #f0f8ff;}#sk-container-id-1 div.sk-toggleable__content pre {margin: 0.2em;color: black;border-radius: 0.25em;background-color: #f0f8ff;}#sk-container-id-1 input.sk-toggleable__control:checked~div.sk-toggleable__content {max-height: 200px;max-width: 100%;overflow: auto;}#sk-container-id-1 input.sk-toggleable__control:checked~label.sk-toggleable__label-arrow:before {content: \"▾\";}#sk-container-id-1 div.sk-estimator input.sk-toggleable__control:checked~label.sk-toggleable__label {background-color: #d4ebff;}#sk-container-id-1 div.sk-label input.sk-toggleable__control:checked~label.sk-toggleable__label {background-color: #d4ebff;}#sk-container-id-1 input.sk-hidden--visually {border: 0;clip: rect(1px 1px 1px 1px);clip: rect(1px, 1px, 1px, 1px);height: 1px;margin: -1px;overflow: hidden;padding: 0;position: absolute;width: 1px;}#sk-container-id-1 div.sk-estimator {font-family: monospace;background-color: #f0f8ff;border: 1px dotted black;border-radius: 0.25em;box-sizing: border-box;margin-bottom: 0.5em;}#sk-container-id-1 div.sk-estimator:hover {background-color: #d4ebff;}#sk-container-id-1 div.sk-parallel-item::after {content: \"\";width: 100%;border-bottom: 1px solid gray;flex-grow: 1;}#sk-container-id-1 div.sk-label:hover label.sk-toggleable__label {background-color: #d4ebff;}#sk-container-id-1 div.sk-serial::before {content: \"\";position: absolute;border-left: 1px solid gray;box-sizing: border-box;top: 0;bottom: 0;left: 50%;z-index: 0;}#sk-container-id-1 div.sk-serial {display: flex;flex-direction: column;align-items: center;background-color: white;padding-right: 0.2em;padding-left: 0.2em;position: relative;}#sk-container-id-1 div.sk-item {position: relative;z-index: 1;}#sk-container-id-1 div.sk-parallel {display: flex;align-items: stretch;justify-content: center;background-color: white;position: relative;}#sk-container-id-1 div.sk-item::before, #sk-container-id-1 div.sk-parallel-item::before {content: \"\";position: absolute;border-left: 1px solid gray;box-sizing: border-box;top: 0;bottom: 0;left: 50%;z-index: -1;}#sk-container-id-1 div.sk-parallel-item {display: flex;flex-direction: column;z-index: 1;position: relative;background-color: white;}#sk-container-id-1 div.sk-parallel-item:first-child::after {align-self: flex-end;width: 50%;}#sk-container-id-1 div.sk-parallel-item:last-child::after {align-self: flex-start;width: 50%;}#sk-container-id-1 div.sk-parallel-item:only-child::after {width: 0;}#sk-container-id-1 div.sk-dashed-wrapped {border: 1px dashed gray;margin: 0 0.4em 0.5em 0.4em;box-sizing: border-box;padding-bottom: 0.4em;background-color: white;}#sk-container-id-1 div.sk-label label {font-family: monospace;font-weight: bold;display: inline-block;line-height: 1.2em;}#sk-container-id-1 div.sk-label-container {text-align: center;}#sk-container-id-1 div.sk-container {/* jupyter's `normalize.less` sets `[hidden] { display: none; }` but bootstrap.min.css set `[hidden] { display: none !important; }` so we also need the `!important` here to be able to override the default hidden behavior on the sphinx rendered scikit-learn.org. See: https://github.com/scikit-learn/scikit-learn/issues/21755 */display: inline-block !important;position: relative;}#sk-container-id-1 div.sk-text-repr-fallback {display: none;}</style><div id=\"sk-container-id-1\" class=\"sk-top-container\"><div class=\"sk-text-repr-fallback\"><pre>RandomForestRegressor(random_state=42)</pre><b>In a Jupyter environment, please rerun this cell to show the HTML representation or trust the notebook. <br />On GitHub, the HTML representation is unable to render, please try loading this page with nbviewer.org.</b></div><div class=\"sk-container\" hidden><div class=\"sk-item\"><div class=\"sk-estimator sk-toggleable\"><input class=\"sk-toggleable__control sk-hidden--visually\" id=\"sk-estimator-id-1\" type=\"checkbox\" checked><label for=\"sk-estimator-id-1\" class=\"sk-toggleable__label sk-toggleable__label-arrow\">RandomForestRegressor</label><div class=\"sk-toggleable__content\"><pre>RandomForestRegressor(random_state=42)</pre></div></div></div></div></div>"
      ],
      "text/plain": [
       "RandomForestRegressor(random_state=42)"
      ]
     },
     "execution_count": 48,
     "metadata": {},
     "output_type": "execute_result"
    }
   ],
   "source": [
    "# Initialize the Random Forest Regressor\n",
    "rf_regressor = RandomForestRegressor(n_estimators=100, random_state=42)\n",
    "\n",
    "# Train the model\n",
    "rf_regressor.fit(X_train, y_train)\n"
   ]
  },
  {
   "cell_type": "code",
   "execution_count": 49,
   "id": "43376f09-88be-4713-8149-44e916fe2a52",
   "metadata": {},
   "outputs": [],
   "source": [
    "#random_state=42, you ensure that the results are reproducible."
   ]
  },
  {
   "cell_type": "code",
   "execution_count": 50,
   "id": "dfa888ee-6907-41d7-b8ca-b36b61e59405",
   "metadata": {},
   "outputs": [
    {
     "name": "stdout",
     "output_type": "stream",
     "text": [
      "Mean Squared Error: 3.5008010295855896\n"
     ]
    }
   ],
   "source": [
    "# Make predictions on the test set\n",
    "y_pred = rf_regressor.predict(X_test)\n",
    "\n",
    "# Evaluate the model\n",
    "mse = mean_squared_error(y_test, y_pred)\n",
    "print(f'Mean Squared Error: {mse}')\n"
   ]
  },
  {
   "cell_type": "code",
   "execution_count": 51,
   "id": "7b2c860f-dc0d-40bd-803c-8abcfa9e57e6",
   "metadata": {},
   "outputs": [],
   "source": [
    "bins = [0, 10, 50, 100, 500, float('inf')]\n",
    "labels = ['Very Low', 'Low', 'Medium', 'High', 'Very High']\n",
    "\n",
    "df['ReviewCountBins'] = pd.cut(df['ReviewCount'], bins=bins, labels=labels, right=False)"
   ]
  },
  {
   "cell_type": "code",
   "execution_count": 52,
   "id": "dff7f44a-0af6-4830-b68e-d46e97ecdd97",
   "metadata": {},
   "outputs": [],
   "source": [
    "# Assuming your DataFrame is named df and the target variable is 'target'\n",
    "X = df[['ReviewCountBins']]\n",
    "y = df['AggregatedRating']  # Replace 'target' with your actual target variable\n",
    "\n",
    "# Convert categorical feature 'ReviewCountBins' to numerical using one-hot encoding\n",
    "X = pd.get_dummies(X, columns=['ReviewCountBins'])\n",
    "\n",
    "# Split the data into training and testing sets\n",
    "X_train, X_test, y_train, y_test = train_test_split(X, y, test_size=0.2, random_state=42)\n"
   ]
  },
  {
   "cell_type": "code",
   "execution_count": 53,
   "id": "5916f815-8003-4571-86a2-70b09f636620",
   "metadata": {},
   "outputs": [
    {
     "data": {
      "text/html": [
       "<style>#sk-container-id-2 {color: black;background-color: white;}#sk-container-id-2 pre{padding: 0;}#sk-container-id-2 div.sk-toggleable {background-color: white;}#sk-container-id-2 label.sk-toggleable__label {cursor: pointer;display: block;width: 100%;margin-bottom: 0;padding: 0.3em;box-sizing: border-box;text-align: center;}#sk-container-id-2 label.sk-toggleable__label-arrow:before {content: \"▸\";float: left;margin-right: 0.25em;color: #696969;}#sk-container-id-2 label.sk-toggleable__label-arrow:hover:before {color: black;}#sk-container-id-2 div.sk-estimator:hover label.sk-toggleable__label-arrow:before {color: black;}#sk-container-id-2 div.sk-toggleable__content {max-height: 0;max-width: 0;overflow: hidden;text-align: left;background-color: #f0f8ff;}#sk-container-id-2 div.sk-toggleable__content pre {margin: 0.2em;color: black;border-radius: 0.25em;background-color: #f0f8ff;}#sk-container-id-2 input.sk-toggleable__control:checked~div.sk-toggleable__content {max-height: 200px;max-width: 100%;overflow: auto;}#sk-container-id-2 input.sk-toggleable__control:checked~label.sk-toggleable__label-arrow:before {content: \"▾\";}#sk-container-id-2 div.sk-estimator input.sk-toggleable__control:checked~label.sk-toggleable__label {background-color: #d4ebff;}#sk-container-id-2 div.sk-label input.sk-toggleable__control:checked~label.sk-toggleable__label {background-color: #d4ebff;}#sk-container-id-2 input.sk-hidden--visually {border: 0;clip: rect(1px 1px 1px 1px);clip: rect(1px, 1px, 1px, 1px);height: 1px;margin: -1px;overflow: hidden;padding: 0;position: absolute;width: 1px;}#sk-container-id-2 div.sk-estimator {font-family: monospace;background-color: #f0f8ff;border: 1px dotted black;border-radius: 0.25em;box-sizing: border-box;margin-bottom: 0.5em;}#sk-container-id-2 div.sk-estimator:hover {background-color: #d4ebff;}#sk-container-id-2 div.sk-parallel-item::after {content: \"\";width: 100%;border-bottom: 1px solid gray;flex-grow: 1;}#sk-container-id-2 div.sk-label:hover label.sk-toggleable__label {background-color: #d4ebff;}#sk-container-id-2 div.sk-serial::before {content: \"\";position: absolute;border-left: 1px solid gray;box-sizing: border-box;top: 0;bottom: 0;left: 50%;z-index: 0;}#sk-container-id-2 div.sk-serial {display: flex;flex-direction: column;align-items: center;background-color: white;padding-right: 0.2em;padding-left: 0.2em;position: relative;}#sk-container-id-2 div.sk-item {position: relative;z-index: 1;}#sk-container-id-2 div.sk-parallel {display: flex;align-items: stretch;justify-content: center;background-color: white;position: relative;}#sk-container-id-2 div.sk-item::before, #sk-container-id-2 div.sk-parallel-item::before {content: \"\";position: absolute;border-left: 1px solid gray;box-sizing: border-box;top: 0;bottom: 0;left: 50%;z-index: -1;}#sk-container-id-2 div.sk-parallel-item {display: flex;flex-direction: column;z-index: 1;position: relative;background-color: white;}#sk-container-id-2 div.sk-parallel-item:first-child::after {align-self: flex-end;width: 50%;}#sk-container-id-2 div.sk-parallel-item:last-child::after {align-self: flex-start;width: 50%;}#sk-container-id-2 div.sk-parallel-item:only-child::after {width: 0;}#sk-container-id-2 div.sk-dashed-wrapped {border: 1px dashed gray;margin: 0 0.4em 0.5em 0.4em;box-sizing: border-box;padding-bottom: 0.4em;background-color: white;}#sk-container-id-2 div.sk-label label {font-family: monospace;font-weight: bold;display: inline-block;line-height: 1.2em;}#sk-container-id-2 div.sk-label-container {text-align: center;}#sk-container-id-2 div.sk-container {/* jupyter's `normalize.less` sets `[hidden] { display: none; }` but bootstrap.min.css set `[hidden] { display: none !important; }` so we also need the `!important` here to be able to override the default hidden behavior on the sphinx rendered scikit-learn.org. See: https://github.com/scikit-learn/scikit-learn/issues/21755 */display: inline-block !important;position: relative;}#sk-container-id-2 div.sk-text-repr-fallback {display: none;}</style><div id=\"sk-container-id-2\" class=\"sk-top-container\"><div class=\"sk-text-repr-fallback\"><pre>RandomForestRegressor(random_state=42)</pre><b>In a Jupyter environment, please rerun this cell to show the HTML representation or trust the notebook. <br />On GitHub, the HTML representation is unable to render, please try loading this page with nbviewer.org.</b></div><div class=\"sk-container\" hidden><div class=\"sk-item\"><div class=\"sk-estimator sk-toggleable\"><input class=\"sk-toggleable__control sk-hidden--visually\" id=\"sk-estimator-id-2\" type=\"checkbox\" checked><label for=\"sk-estimator-id-2\" class=\"sk-toggleable__label sk-toggleable__label-arrow\">RandomForestRegressor</label><div class=\"sk-toggleable__content\"><pre>RandomForestRegressor(random_state=42)</pre></div></div></div></div></div>"
      ],
      "text/plain": [
       "RandomForestRegressor(random_state=42)"
      ]
     },
     "execution_count": 53,
     "metadata": {},
     "output_type": "execute_result"
    }
   ],
   "source": [
    "# Initialize the Random Forest Regressor\n",
    "rf_regressor = RandomForestRegressor(n_estimators=100, random_state=42)\n",
    "\n",
    "# Train the model\n",
    "rf_regressor.fit(X_train, y_train)"
   ]
  },
  {
   "cell_type": "code",
   "execution_count": 54,
   "id": "ea02bf55-659a-4a9a-85d1-5e49a087c0d4",
   "metadata": {},
   "outputs": [
    {
     "name": "stdout",
     "output_type": "stream",
     "text": [
      "Mean Squared Error: 3.2756024254314373\n"
     ]
    }
   ],
   "source": [
    "# Make predictions on the test set\n",
    "y_pred = rf_regressor.predict(X_test)\n",
    "\n",
    "# Evaluate the model\n",
    "mse = mean_squared_error(y_test, y_pred)\n",
    "print(f'Mean Squared Error: {mse}')\n"
   ]
  },
  {
   "cell_type": "code",
   "execution_count": 57,
   "id": "2b1548db-9252-4e20-8553-45d3273a34ff",
   "metadata": {},
   "outputs": [],
   "source": [
    "from sklearn.feature_extraction.text import CountVectorizer\n",
    "# Combine all descriptions into a single string\n",
    "all_descriptions = ' '.join(df['RecipeIngredientParts'].dropna().astype(str))\n",
    "\n",
    "# Initialize CountVectorizer to count word frequencies\n",
    "vectorizer = CountVectorizer(stop_words='english')\n",
    "word_counts = vectorizer.fit_transform([all_descriptions])\n",
    "\n",
    "# Convert the word counts to a DataFrame\n",
    "word_counts_df = pd.DataFrame(word_counts.toarray(), columns=vectorizer.get_feature_names_out())"
   ]
  },
  {
   "cell_type": "code",
   "execution_count": 58,
   "id": "3e55a99b-db84-41e7-ae88-2d8321b394d9",
   "metadata": {},
   "outputs": [
    {
     "name": "stdout",
     "output_type": "stream",
     "text": [
      "salt       141655\n",
      "sugar      130468\n",
      "pepper     116070\n",
      "butter     101310\n",
      "cheese      99787\n",
      "fresh       96880\n",
      "flour       86797\n",
      "garlic      86608\n",
      "onion       81895\n",
      "ground      76273\n",
      "oil         68766\n",
      "powder      66725\n",
      "water       64474\n",
      "olive       59895\n",
      "milk        55299\n",
      "baking      50824\n",
      "cream       50459\n",
      "green       44638\n",
      "chicken     44235\n",
      "sauce       44162\n",
      "dtype: int64\n"
     ]
    }
   ],
   "source": [
    "# Sum the word counts for each ingredient\n",
    "ingredient_counts = word_counts_df.sum().sort_values(ascending=False)\n",
    "\n",
    "# Display the top 20 popular ingredients\n",
    "top_ingredients = ingredient_counts.head(20)\n",
    "print(top_ingredients)"
   ]
  },
  {
   "cell_type": "code",
   "execution_count": 59,
   "id": "175ec4cf-3b6a-48f6-8273-8b1d57ab4d72",
   "metadata": {},
   "outputs": [
    {
     "data": {
      "image/png": "[encoded data removed]",
      "text/plain": [
       "<Figure size 1200x800 with 1 Axes>"
      ]
     },
     "metadata": {},
     "output_type": "display_data"
    }
   ],
   "source": [
    "# Plot the top 20 popular ingredients\n",
    "plt.figure(figsize=(12, 8))\n",
    "top_ingredients.plot(kind='bar')\n",
    "plt.title('Top 20 Popular Ingredients in Descriptions')\n",
    "plt.xlabel('Ingredients')\n",
    "plt.ylabel('Frequency')\n",
    "plt.show()"
   ]
  },
  {
   "cell_type": "code",
   "execution_count": 60,
   "id": "7c09549f-add3-4813-a541-f3d22da7bc28",
   "metadata": {},
   "outputs": [],
   "source": [
    "# Create a function to check for the presence of top ingredients\n",
    "def check_ingredient_presence(ingredients, top_ingredients):\n",
    "    return [1 if ingredient in ingredients else 0 for ingredient in top_ingredients]\n",
    "\n",
    "# Apply the function to create features for each top ingredient\n",
    "for ingredient in top_ingredients.index:\n",
    "    df[ingredient] = df['RecipeIngredientParts'].apply(lambda x: 1 if ingredient in x else 0)"
   ]
  },
  {
   "cell_type": "code",
   "execution_count": 61,
   "id": "c172e9fa-1071-4ab9-a58b-707131891f01",
   "metadata": {},
   "outputs": [],
   "source": [
    "from sklearn.model_selection import train_test_split \n",
    "from sklearn.ensemble import RandomForestRegressor \n",
    "from sklearn.metrics import mean_squared_error\n",
    "# Assuming your target variable is 'AggregatedRating'\n",
    "X = df[top_ingredients.index]\n",
    "y = df['AggregatedRating']\n",
    "\n",
    "# Split the data into training and testing sets\n",
    "X_train, X_test, y_train, y_test = train_test_split(X, y, test_size=0.2, random_state=42)"
   ]
  },
  {
   "cell_type": "code",
   "execution_count": 62,
   "id": "70790a55-c070-4bc9-b3b7-9a42c1220fbd",
   "metadata": {},
   "outputs": [
    {
     "data": {
      "text/html": [
       "<style>#sk-container-id-3 {color: black;background-color: white;}#sk-container-id-3 pre{padding: 0;}#sk-container-id-3 div.sk-toggleable {background-color: white;}#sk-container-id-3 label.sk-toggleable__label {cursor: pointer;display: block;width: 100%;margin-bottom: 0;padding: 0.3em;box-sizing: border-box;text-align: center;}#sk-container-id-3 label.sk-toggleable__label-arrow:before {content: \"▸\";float: left;margin-right: 0.25em;color: #696969;}#sk-container-id-3 label.sk-toggleable__label-arrow:hover:before {color: black;}#sk-container-id-3 div.sk-estimator:hover label.sk-toggleable__label-arrow:before {color: black;}#sk-container-id-3 div.sk-toggleable__content {max-height: 0;max-width: 0;overflow: hidden;text-align: left;background-color: #f0f8ff;}#sk-container-id-3 div.sk-toggleable__content pre {margin: 0.2em;color: black;border-radius: 0.25em;background-color: #f0f8ff;}#sk-container-id-3 input.sk-toggleable__control:checked~div.sk-toggleable__content {max-height: 200px;max-width: 100%;overflow: auto;}#sk-container-id-3 input.sk-toggleable__control:checked~label.sk-toggleable__label-arrow:before {content: \"▾\";}#sk-container-id-3 div.sk-estimator input.sk-toggleable__control:checked~label.sk-toggleable__label {background-color: #d4ebff;}#sk-container-id-3 div.sk-label input.sk-toggleable__control:checked~label.sk-toggleable__label {background-color: #d4ebff;}#sk-container-id-3 input.sk-hidden--visually {border: 0;clip: rect(1px 1px 1px 1px);clip: rect(1px, 1px, 1px, 1px);height: 1px;margin: -1px;overflow: hidden;padding: 0;position: absolute;width: 1px;}#sk-container-id-3 div.sk-estimator {font-family: monospace;background-color: #f0f8ff;border: 1px dotted black;border-radius: 0.25em;box-sizing: border-box;margin-bottom: 0.5em;}#sk-container-id-3 div.sk-estimator:hover {background-color: #d4ebff;}#sk-container-id-3 div.sk-parallel-item::after {content: \"\";width: 100%;border-bottom: 1px solid gray;flex-grow: 1;}#sk-container-id-3 div.sk-label:hover label.sk-toggleable__label {background-color: #d4ebff;}#sk-container-id-3 div.sk-serial::before {content: \"\";position: absolute;border-left: 1px solid gray;box-sizing: border-box;top: 0;bottom: 0;left: 50%;z-index: 0;}#sk-container-id-3 div.sk-serial {display: flex;flex-direction: column;align-items: center;background-color: white;padding-right: 0.2em;padding-left: 0.2em;position: relative;}#sk-container-id-3 div.sk-item {position: relative;z-index: 1;}#sk-container-id-3 div.sk-parallel {display: flex;align-items: stretch;justify-content: center;background-color: white;position: relative;}#sk-container-id-3 div.sk-item::before, #sk-container-id-3 div.sk-parallel-item::before {content: \"\";position: absolute;border-left: 1px solid gray;box-sizing: border-box;top: 0;bottom: 0;left: 50%;z-index: -1;}#sk-container-id-3 div.sk-parallel-item {display: flex;flex-direction: column;z-index: 1;position: relative;background-color: white;}#sk-container-id-3 div.sk-parallel-item:first-child::after {align-self: flex-end;width: 50%;}#sk-container-id-3 div.sk-parallel-item:last-child::after {align-self: flex-start;width: 50%;}#sk-container-id-3 div.sk-parallel-item:only-child::after {width: 0;}#sk-container-id-3 div.sk-dashed-wrapped {border: 1px dashed gray;margin: 0 0.4em 0.5em 0.4em;box-sizing: border-box;padding-bottom: 0.4em;background-color: white;}#sk-container-id-3 div.sk-label label {font-family: monospace;font-weight: bold;display: inline-block;line-height: 1.2em;}#sk-container-id-3 div.sk-label-container {text-align: center;}#sk-container-id-3 div.sk-container {/* jupyter's `normalize.less` sets `[hidden] { display: none; }` but bootstrap.min.css set `[hidden] { display: none !important; }` so we also need the `!important` here to be able to override the default hidden behavior on the sphinx rendered scikit-learn.org. See: https://github.com/scikit-learn/scikit-learn/issues/21755 */display: inline-block !important;position: relative;}#sk-container-id-3 div.sk-text-repr-fallback {display: none;}</style><div id=\"sk-container-id-3\" class=\"sk-top-container\"><div class=\"sk-text-repr-fallback\"><pre>RandomForestRegressor(random_state=42)</pre><b>In a Jupyter environment, please rerun this cell to show the HTML representation or trust the notebook. <br />On GitHub, the HTML representation is unable to render, please try loading this page with nbviewer.org.</b></div><div class=\"sk-container\" hidden><div class=\"sk-item\"><div class=\"sk-estimator sk-toggleable\"><input class=\"sk-toggleable__control sk-hidden--visually\" id=\"sk-estimator-id-3\" type=\"checkbox\" checked><label for=\"sk-estimator-id-3\" class=\"sk-toggleable__label sk-toggleable__label-arrow\">RandomForestRegressor</label><div class=\"sk-toggleable__content\"><pre>RandomForestRegressor(random_state=42)</pre></div></div></div></div></div>"
      ],
      "text/plain": [
       "RandomForestRegressor(random_state=42)"
      ]
     },
     "execution_count": 62,
     "metadata": {},
     "output_type": "execute_result"
    }
   ],
   "source": [
    "# Initialize the Random Forest Regressor\n",
    "rf_regressor = RandomForestRegressor(n_estimators=100, random_state=42)\n",
    "\n",
    "# Train the model\n",
    "rf_regressor.fit(X_train, y_train)"
   ]
  },
  {
   "cell_type": "code",
   "execution_count": 63,
   "id": "a2787df9-44b7-4c08-a568-8f54fe1f77dd",
   "metadata": {},
   "outputs": [
    {
     "name": "stdout",
     "output_type": "stream",
     "text": [
      "Mean Squared Error: 3.709603429108173\n"
     ]
    }
   ],
   "source": [
    "# Make predictions on the test set\n",
    "y_pred = rf_regressor.predict(X_test)\n",
    "\n",
    "# Evaluate the model\n",
    "mse = mean_squared_error(y_test, y_pred)\n",
    "print(f'Mean Squared Error: {mse}')"
   ]
  },
  {
   "cell_type": "code",
   "execution_count": 71,
   "id": "fe6e1c7c-6499-47f5-bd25-5c0e63456b1f",
   "metadata": {},
   "outputs": [],
   "source": [
    "# Define a function to categorize meats, seafood, and vegetarian items\n",
    "def categorize_meal(row):\n",
    "    meat_keywords = ['meat', 'chicken', 'beef', 'pork', 'lamb', 'turkey','duck','goat','rabbit','sausage','mutton','veal','liver','brain']\n",
    "    seafood_keywords = ['seafood','fish', 'shrimp', 'crab', 'lobster', 'salmon','cod','crayfish','mussles','scallops','Anchovies','Oyester','squid', 'octopus','prawns']\n",
    "\n",
    "    if any(keyword in row['Keywords'] for keyword in meat_keywords) or \\\n",
    "       any(keyword in row['RecipeIngredientParts'] for keyword in meat_keywords) or \\\n",
    "       any(keyword in row['Description'] for keyword in meat_keywords):\n",
    "        return 'Meat'\n",
    "    elif any(keyword in row['Keywords'] for keyword in seafood_keywords) or \\\n",
    "         any(keyword in row['RecipeIngredientParts'] for keyword in seafood_keywords) or \\\n",
    "         any(keyword in row['Description'] for keyword in seafood_keywords):\n",
    "        return 'Seafood'\n",
    "    else:\n",
    "        return 'Vegetarian'\n",
    "\n",
    "# Apply the function to create a new column 'MealType'\n",
    "df['MealType'] = df.apply(categorize_meal, axis=1)"
   ]
  },
  {
   "cell_type": "code",
   "execution_count": 77,
   "id": "0e97153c-acf9-4c41-b7e5-65e911976b52",
   "metadata": {},
   "outputs": [
    {
     "name": "stdout",
     "output_type": "stream",
     "text": [
      "                                              Name    MealType\n",
      "0                Low-Fat Berry Blue Frozen Dessert  Vegetarian\n",
      "1                                     Cabbage Soup  Vegetarian\n",
      "2       Buttermilk Pie With Gingersnap Crumb Crust  Vegetarian\n",
      "3                          A Jad - Cucumber Pickle  Vegetarian\n",
      "4                             Butter Pecan Cookies  Vegetarian\n",
      "...                                            ...         ...\n",
      "325259    Chicken Pot Pie with Mashed Potato Crust        Meat\n",
      "325260               Masala Maggi Noodles in a Mug  Vegetarian\n",
      "325261                     Chocolate Rum Snowballs  Vegetarian\n",
      "325262             Cookie Cutter Shortbread Hearts  Vegetarian\n",
      "325263                11-Minute Microwave Caramels  Vegetarian\n",
      "\n",
      "[325264 rows x 2 columns]\n"
     ]
    }
   ],
   "source": [
    "print(df[['Name','MealType']].head(-10))"
   ]
  },
  {
   "cell_type": "code",
   "execution_count": 79,
   "id": "5e9677d7-c3ad-4bf1-94bb-4eab6d613317",
   "metadata": {},
   "outputs": [
    {
     "name": "stdout",
     "output_type": "stream",
     "text": [
      "                                         Name  TotalTime Difficulty\n",
      "0           Low-Fat Berry Blue Frozen Dessert      89100  Difficult\n",
      "1                                Cabbage Soup       3000     Medium\n",
      "2  Buttermilk Pie With Gingersnap Crumb Crust       4800     Medium\n",
      "3                     A Jad - Cucumber Pickle       1500       Easy\n",
      "4                        Butter Pecan Cookies       3840     Medium\n"
     ]
    }
   ],
   "source": [
    "# Define a function to categorize recipes as easy or difficult\n",
    "def categorize_difficulty(row):\n",
    "    if row['TotalTime'] <= 1800:  # 30 minutes or less\n",
    "        return 'Easy'\n",
    "    elif row['TotalTime'] <= 7200:  # Between 30 minutes and 2 hours\n",
    "        return 'Medium'\n",
    "    else:\n",
    "        return 'Difficult'\n",
    "\n",
    "# Apply the function to create a new column 'Difficulty'\n",
    "df['Difficulty'] = df.apply(categorize_difficulty, axis=1)\n",
    "\n",
    "# Display the first few rows of the DataFrame to see the new column\n",
    "print(df[['Name', 'TotalTime', 'Difficulty']].head())\n"
   ]
  },
  {
   "cell_type": "code",
   "execution_count": 81,
   "id": "ac92a153-9225-407b-b197-bb5bee5ecc59",
   "metadata": {},
   "outputs": [],
   "source": [
    "df.to_csv('Recipes_Model.csv', index=False)"
   ]
  },
  {
   "cell_type": "code",
   "execution_count": null,
   "id": "1692534c-0f27-4949-ad69-943ceab8e564",
   "metadata": {},
   "outputs": [],
   "source": []
  },
  {
   "cell_type": "code",
   "execution_count": null,
   "id": "b166e52c-2558-49eb-8c87-04ff03fb5040",
   "metadata": {},
   "outputs": [],
   "source": []
  }
 ],
 "metadata": {
  "kernelspec": {
   "display_name": "Python 3 (ipykernel)",
   "language": "python",
   "name": "python3"
  },
  "language_info": {
   "codemirror_mode": {
    "name": "ipython",
    "version": 3
   },
   "file_extension": ".py",
   "mimetype": "text/x-python",
   "name": "python",
   "nbconvert_exporter": "python",
   "pygments_lexer": "ipython3",
   "version": "3.11.7"
  }
 },
 "nbformat": 4,
 "nbformat_minor": 5
}
