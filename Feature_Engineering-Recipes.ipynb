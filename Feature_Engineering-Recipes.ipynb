{
 "cells": [
  {
   "cell_type": "code",
   "execution_count": 9,
   "id": "638d34d9-2e32-48b1-9978-b85628c3e8c9",
   "metadata": {},
   "outputs": [],
   "source": [
    "import pandas as pd\n",
    "import matplotlib.pyplot as plt\n",
    "import seaborn as sns\n",
    "import os\n",
    "from sklearn.preprocessing import OneHotEncoder\n",
    "from sklearn.feature_extraction.text import TfidfVectorizer\n",
    "from sklearn.feature_extraction.text import HashingVectorizer\n",
    "from sklearn.preprocessing import MinMaxScaler"
   ]
  },
  {
   "cell_type": "code",
   "execution_count": 10,
   "id": "8b6e709b-b1ee-408b-8f7d-7ba85b62d2c5",
   "metadata": {},
   "outputs": [],
   "source": [
    "df = pd.read_csv('C:\\\\Users\\\\aahsa\\\\Downloads\\\\cleaned_Recipes.csv')"
   ]
  },
  {
   "cell_type": "code",
   "execution_count": 11,
   "id": "95114480-3cee-4836-b998-99f5e83dbdd1",
   "metadata": {},
   "outputs": [
    {
     "data": {
      "text/html": [
       "<div>\n",
       "<style scoped>\n",
       "    .dataframe tbody tr th:only-of-type {\n",
       "        vertical-align: middle;\n",
       "    }\n",
       "\n",
       "    .dataframe tbody tr th {\n",
       "        vertical-align: top;\n",
       "    }\n",
       "\n",
       "    .dataframe thead th {\n",
       "        text-align: right;\n",
       "    }\n",
       "</style>\n",
       "<table border=\"1\" class=\"dataframe\">\n",
       "  <thead>\n",
       "    <tr style=\"text-align: right;\">\n",
       "      <th></th>\n",
       "      <th>RecipeId</th>\n",
       "      <th>Name</th>\n",
       "      <th>AuthorId</th>\n",
       "      <th>CookTime</th>\n",
       "      <th>PrepTime</th>\n",
       "      <th>TotalTime</th>\n",
       "      <th>Description</th>\n",
       "      <th>Images</th>\n",
       "      <th>RecipeCategory</th>\n",
       "      <th>Keywords</th>\n",
       "      <th>...</th>\n",
       "      <th>SaturatedFatContent</th>\n",
       "      <th>CholesterolContent</th>\n",
       "      <th>SodiumContent</th>\n",
       "      <th>CarbohydrateContent</th>\n",
       "      <th>FiberContent</th>\n",
       "      <th>SugarContent</th>\n",
       "      <th>ProteinContent</th>\n",
       "      <th>RecipeServings</th>\n",
       "      <th>RecipeYield</th>\n",
       "      <th>AuthorName</th>\n",
       "    </tr>\n",
       "  </thead>\n",
       "  <tbody>\n",
       "    <tr>\n",
       "      <th>0</th>\n",
       "      <td>38</td>\n",
       "      <td>Low-Fat Berry Blue Frozen Dessert</td>\n",
       "      <td>1533</td>\n",
       "      <td>86400.0</td>\n",
       "      <td>2700</td>\n",
       "      <td>89100</td>\n",
       "      <td>Make and share this Low-Fat Berry Blue Frozen ...</td>\n",
       "      <td>c(\"https://img.sndimg.com/food/image/upload/w_...</td>\n",
       "      <td>Frozen Desserts</td>\n",
       "      <td>c(\"Dessert\", \"Low Protein\", \"Low Cholesterol\",...</td>\n",
       "      <td>...</td>\n",
       "      <td>1.3</td>\n",
       "      <td>8.0</td>\n",
       "      <td>29.8</td>\n",
       "      <td>37.1</td>\n",
       "      <td>3.6</td>\n",
       "      <td>30.2</td>\n",
       "      <td>3.2</td>\n",
       "      <td>4.0</td>\n",
       "      <td>1.0</td>\n",
       "      <td>Dancer</td>\n",
       "    </tr>\n",
       "    <tr>\n",
       "      <th>1</th>\n",
       "      <td>39</td>\n",
       "      <td>Biryani</td>\n",
       "      <td>1567</td>\n",
       "      <td>1500.0</td>\n",
       "      <td>14400</td>\n",
       "      <td>15900</td>\n",
       "      <td>Make and share this Biryani recipe from Food.com.</td>\n",
       "      <td>c(\"https://img.sndimg.com/food/image/upload/w_...</td>\n",
       "      <td>Chicken Breast</td>\n",
       "      <td>c(\"Chicken Thigh &amp; Leg\", \"Chicken\", \"Poultry\",...</td>\n",
       "      <td>...</td>\n",
       "      <td>16.6</td>\n",
       "      <td>372.8</td>\n",
       "      <td>368.4</td>\n",
       "      <td>84.4</td>\n",
       "      <td>9.0</td>\n",
       "      <td>20.4</td>\n",
       "      <td>63.4</td>\n",
       "      <td>6.0</td>\n",
       "      <td>1.0</td>\n",
       "      <td>elly9812</td>\n",
       "    </tr>\n",
       "    <tr>\n",
       "      <th>2</th>\n",
       "      <td>40</td>\n",
       "      <td>Best Lemonade</td>\n",
       "      <td>1566</td>\n",
       "      <td>300.0</td>\n",
       "      <td>1800</td>\n",
       "      <td>2100</td>\n",
       "      <td>This is from one of my  first Good House Keepi...</td>\n",
       "      <td>c(\"https://img.sndimg.com/food/image/upload/w_...</td>\n",
       "      <td>Beverages</td>\n",
       "      <td>c(\"Low Protein\", \"Low Cholesterol\", \"Healthy\",...</td>\n",
       "      <td>...</td>\n",
       "      <td>0.0</td>\n",
       "      <td>0.0</td>\n",
       "      <td>1.8</td>\n",
       "      <td>81.5</td>\n",
       "      <td>0.4</td>\n",
       "      <td>77.2</td>\n",
       "      <td>0.3</td>\n",
       "      <td>4.0</td>\n",
       "      <td>1.0</td>\n",
       "      <td>Stephen Little</td>\n",
       "    </tr>\n",
       "    <tr>\n",
       "      <th>3</th>\n",
       "      <td>41</td>\n",
       "      <td>Carina's Tofu-Vegetable Kebabs</td>\n",
       "      <td>1586</td>\n",
       "      <td>1200.0</td>\n",
       "      <td>86400</td>\n",
       "      <td>87600</td>\n",
       "      <td>This dish is best prepared a day in advance to...</td>\n",
       "      <td>c(\"https://img.sndimg.com/food/image/upload/w_...</td>\n",
       "      <td>Soy/Tofu</td>\n",
       "      <td>c(\"Beans\", \"Vegetable\", \"Low Cholesterol\", \"We...</td>\n",
       "      <td>...</td>\n",
       "      <td>3.8</td>\n",
       "      <td>0.0</td>\n",
       "      <td>1558.6</td>\n",
       "      <td>64.2</td>\n",
       "      <td>17.3</td>\n",
       "      <td>32.1</td>\n",
       "      <td>29.3</td>\n",
       "      <td>2.0</td>\n",
       "      <td>4 kebabs</td>\n",
       "      <td>Cyclopz</td>\n",
       "    </tr>\n",
       "    <tr>\n",
       "      <th>4</th>\n",
       "      <td>42</td>\n",
       "      <td>Cabbage Soup</td>\n",
       "      <td>1538</td>\n",
       "      <td>1800.0</td>\n",
       "      <td>1200</td>\n",
       "      <td>3000</td>\n",
       "      <td>Make and share this Cabbage Soup recipe from F...</td>\n",
       "      <td>\"https://img.sndimg.com/food/image/upload/w_55...</td>\n",
       "      <td>Vegetable</td>\n",
       "      <td>c(\"Low Protein\", \"Vegan\", \"Low Cholesterol\", \"...</td>\n",
       "      <td>...</td>\n",
       "      <td>0.1</td>\n",
       "      <td>0.0</td>\n",
       "      <td>959.3</td>\n",
       "      <td>25.1</td>\n",
       "      <td>4.8</td>\n",
       "      <td>17.7</td>\n",
       "      <td>4.3</td>\n",
       "      <td>4.0</td>\n",
       "      <td>1.0</td>\n",
       "      <td>Duckie067</td>\n",
       "    </tr>\n",
       "  </tbody>\n",
       "</table>\n",
       "<p>5 rows × 27 columns</p>\n",
       "</div>"
      ],
      "text/plain": [
       "   RecipeId                               Name  AuthorId  CookTime  PrepTime  \\\n",
       "0        38  Low-Fat Berry Blue Frozen Dessert      1533   86400.0      2700   \n",
       "1        39                            Biryani      1567    1500.0     14400   \n",
       "2        40                      Best Lemonade      1566     300.0      1800   \n",
       "3        41     Carina's Tofu-Vegetable Kebabs      1586    1200.0     86400   \n",
       "4        42                       Cabbage Soup      1538    1800.0      1200   \n",
       "\n",
       "   TotalTime                                        Description  \\\n",
       "0      89100  Make and share this Low-Fat Berry Blue Frozen ...   \n",
       "1      15900  Make and share this Biryani recipe from Food.com.   \n",
       "2       2100  This is from one of my  first Good House Keepi...   \n",
       "3      87600  This dish is best prepared a day in advance to...   \n",
       "4       3000  Make and share this Cabbage Soup recipe from F...   \n",
       "\n",
       "                                              Images   RecipeCategory  \\\n",
       "0  c(\"https://img.sndimg.com/food/image/upload/w_...  Frozen Desserts   \n",
       "1  c(\"https://img.sndimg.com/food/image/upload/w_...   Chicken Breast   \n",
       "2  c(\"https://img.sndimg.com/food/image/upload/w_...        Beverages   \n",
       "3  c(\"https://img.sndimg.com/food/image/upload/w_...         Soy/Tofu   \n",
       "4  \"https://img.sndimg.com/food/image/upload/w_55...        Vegetable   \n",
       "\n",
       "                                            Keywords  ... SaturatedFatContent  \\\n",
       "0  c(\"Dessert\", \"Low Protein\", \"Low Cholesterol\",...  ...                 1.3   \n",
       "1  c(\"Chicken Thigh & Leg\", \"Chicken\", \"Poultry\",...  ...                16.6   \n",
       "2  c(\"Low Protein\", \"Low Cholesterol\", \"Healthy\",...  ...                 0.0   \n",
       "3  c(\"Beans\", \"Vegetable\", \"Low Cholesterol\", \"We...  ...                 3.8   \n",
       "4  c(\"Low Protein\", \"Vegan\", \"Low Cholesterol\", \"...  ...                 0.1   \n",
       "\n",
       "  CholesterolContent SodiumContent  CarbohydrateContent  FiberContent  \\\n",
       "0                8.0          29.8                 37.1           3.6   \n",
       "1              372.8         368.4                 84.4           9.0   \n",
       "2                0.0           1.8                 81.5           0.4   \n",
       "3                0.0        1558.6                 64.2          17.3   \n",
       "4                0.0         959.3                 25.1           4.8   \n",
       "\n",
       "   SugarContent  ProteinContent  RecipeServings  RecipeYield      AuthorName  \n",
       "0          30.2             3.2             4.0          1.0          Dancer  \n",
       "1          20.4            63.4             6.0          1.0        elly9812  \n",
       "2          77.2             0.3             4.0          1.0  Stephen Little  \n",
       "3          32.1            29.3             2.0     4 kebabs         Cyclopz  \n",
       "4          17.7             4.3             4.0          1.0       Duckie067  \n",
       "\n",
       "[5 rows x 27 columns]"
      ]
     },
     "execution_count": 11,
     "metadata": {},
     "output_type": "execute_result"
    }
   ],
   "source": [
    "df.head()"
   ]
  },
  {
   "cell_type": "code",
   "execution_count": 12,
   "id": "a86e9417-7051-43bd-96fd-0eb6675271f8",
   "metadata": {},
   "outputs": [
    {
     "name": "stdout",
     "output_type": "stream",
     "text": [
      "<class 'pandas.core.frame.DataFrame'>\n",
      "RangeIndex: 522517 entries, 0 to 522516\n",
      "Data columns (total 27 columns):\n",
      " #   Column                      Non-Null Count   Dtype  \n",
      "---  ------                      --------------   -----  \n",
      " 0   RecipeId                    522517 non-null  int64  \n",
      " 1   Name                        522517 non-null  object \n",
      " 2   AuthorId                    522517 non-null  int64  \n",
      " 3   CookTime                    522517 non-null  float64\n",
      " 4   PrepTime                    522517 non-null  int64  \n",
      " 5   TotalTime                   522517 non-null  int64  \n",
      " 6   Description                 522517 non-null  object \n",
      " 7   Images                      522517 non-null  object \n",
      " 8   RecipeCategory              522517 non-null  object \n",
      " 9   Keywords                    522517 non-null  object \n",
      " 10  RecipeIngredientQuantities  522517 non-null  object \n",
      " 11  RecipeIngredientParts       522517 non-null  object \n",
      " 12  RecipeInstructions          522517 non-null  object \n",
      " 13  AggregatedRating            522517 non-null  float64\n",
      " 14  ReviewCount                 522517 non-null  float64\n",
      " 15  Calories                    522517 non-null  float64\n",
      " 16  FatContent                  522517 non-null  float64\n",
      " 17  SaturatedFatContent         522517 non-null  float64\n",
      " 18  CholesterolContent          522517 non-null  float64\n",
      " 19  SodiumContent               522517 non-null  float64\n",
      " 20  CarbohydrateContent         522517 non-null  float64\n",
      " 21  FiberContent                522517 non-null  float64\n",
      " 22  SugarContent                522517 non-null  float64\n",
      " 23  ProteinContent              522517 non-null  float64\n",
      " 24  RecipeServings              522517 non-null  float64\n",
      " 25  RecipeYield                 522517 non-null  object \n",
      " 26  AuthorName                  522517 non-null  object \n",
      "dtypes: float64(13), int64(4), object(10)\n",
      "memory usage: 107.6+ MB\n"
     ]
    }
   ],
   "source": [
    "df.info()"
   ]
  },
  {
   "cell_type": "code",
   "execution_count": 13,
   "id": "5e8d8ea3-1ada-47a4-a89f-1daff229f9d0",
   "metadata": {},
   "outputs": [
    {
     "data": {
      "text/plain": [
       "Text(0.5, 1.0, 'Box plot of Sodium Content')"
      ]
     },
     "execution_count": 13,
     "metadata": {},
     "output_type": "execute_result"
    },
    {
     "data": {
      "image/png": "[encoded data removed]",
      "text/plain": [
       "<Figure size 640x480 with 1 Axes>"
      ]
     },
     "metadata": {},
     "output_type": "display_data"
    }
   ],
   "source": [
    "#Check outlier for SodiumContent\n",
    "sns.boxplot(x=df['SodiumContent']) \n",
    "plt.title('Box plot of Sodium Content')"
   ]
  },
  {
   "cell_type": "code",
   "execution_count": 14,
   "id": "ed0c5d5f-f852-4ffe-a958-488126042bb2",
   "metadata": {},
   "outputs": [],
   "source": [
    "#Removing outliers for all the nutrition values\n",
    "import pandas as pd\n",
    "\n",
    "# Assuming your DataFrame is named df\n",
    "columns = ['Calories', 'FatContent', 'SaturatedFatContent', 'CholesterolContent', 'SodiumContent', \n",
    "           'CarbohydrateContent', 'FiberContent', 'SugarContent', 'ProteinContent']\n",
    "\n",
    "for column in columns:\n",
    "    Q1 = df[column].quantile(0.25)\n",
    "    Q3 = df[column].quantile(0.75)\n",
    "    IQR = Q3 - Q1\n",
    "    lower_bound = Q1 - 1.5 * IQR\n",
    "    upper_bound = Q3 + 1.5 * IQR\n",
    "    df = df[(df[column] >= lower_bound) & (df[column] <= upper_bound)]"
   ]
  },
  {
   "cell_type": "code",
   "execution_count": 15,
   "id": "1f1d7495-1158-47e5-bd5c-a8e44ec753bd",
   "metadata": {},
   "outputs": [
    {
     "data": {
      "text/plain": [
       "Text(0.5, 1.0, 'Box plot of Sodium Content')"
      ]
     },
     "execution_count": 15,
     "metadata": {},
     "output_type": "execute_result"
    },
    {
     "data": {
      "image/png": "[encoded data removed]",
      "text/plain": [
       "<Figure size 640x480 with 1 Axes>"
      ]
     },
     "metadata": {},
     "output_type": "display_data"
    }
   ],
   "source": [
    "#check if Removing outliers for the Sodium content worked:\n",
    "sns.boxplot(x=df['SodiumContent']) \n",
    "plt.title('Box plot of Sodium Content')"
   ]
  },
  {
   "cell_type": "code",
   "execution_count": 16,
   "id": "e428807f-424c-4de5-9e34-8f273bb0a6fa",
   "metadata": {},
   "outputs": [
    {
     "name": "stdout",
     "output_type": "stream",
     "text": [
      "       CookTime  PrepTime     TotalTime\n",
      "0  3.306840e-05  0.000347  3.409654e-05\n",
      "4  6.885502e-07  0.000154  1.148032e-06\n",
      "7  1.147839e-06  0.000231  1.836851e-06\n",
      "8  0.000000e+00  0.000193  5.740159e-07\n",
      "9  2.062972e-07  0.000424  1.469481e-06\n"
     ]
    }
   ],
   "source": [
    "scaler = MinMaxScaler()\n",
    "# Normalize the cooking times\n",
    "cooking_times = df[['CookTime', 'PrepTime', 'TotalTime']]\n",
    "normalized_times = scaler.fit_transform(cooking_times)\n",
    "\n",
    "# Add the normalized times back to the DataFrame\n",
    "df[['CookTime', 'PrepTime', 'TotalTime']] = normalized_times\n",
    "\n",
    "# Display the normalized cooking times\n",
    "print(df[['CookTime', 'PrepTime', 'TotalTime']].head())"
   ]
  },
  {
   "cell_type": "code",
   "execution_count": 17,
   "id": "1e464194-effa-439c-9ce0-9e67f07d78c5",
   "metadata": {},
   "outputs": [
    {
     "name": "stdout",
     "output_type": "stream",
     "text": [
      "   RecipeId                                        Name  AuthorId  \\\n",
      "0      38.0           Low-Fat Berry Blue Frozen Dessert    1533.0   \n",
      "4      42.0                                Cabbage Soup    1538.0   \n",
      "7      45.0  Buttermilk Pie With Gingersnap Crumb Crust    1580.0   \n",
      "8      46.0                     A Jad - Cucumber Pickle    1533.0   \n",
      "9      47.0                        Butter Pecan Cookies    1573.0   \n",
      "\n",
      "       CookTime  PrepTime     TotalTime  \\\n",
      "0  3.306840e-05  0.000347  3.409654e-05   \n",
      "4  6.885502e-07  0.000154  1.148032e-06   \n",
      "7  1.147839e-06  0.000231  1.836851e-06   \n",
      "8  0.000000e+00  0.000193  5.740159e-07   \n",
      "9  2.062972e-07  0.000424  1.469481e-06   \n",
      "\n",
      "                                         Description  \\\n",
      "0  Make and share this Low-Fat Berry Blue Frozen ...   \n",
      "4  Make and share this Cabbage Soup recipe from F...   \n",
      "7  Make and share this Buttermilk Pie With Ginger...   \n",
      "8  Make and share this A Jad - Cucumber Pickle re...   \n",
      "9  Make and share this Butter Pecan Cookies recip...   \n",
      "\n",
      "                                              Images   RecipeCategory  \\\n",
      "0  c(\"https://img.sndimg.com/food/image/upload/w_...  Frozen Desserts   \n",
      "4  \"https://img.sndimg.com/food/image/upload/w_55...        Vegetable   \n",
      "7  \"https://img.sndimg.com/food/image/upload/w_55...              Pie   \n",
      "8                                       character(0)        Vegetable   \n",
      "9  c(\"https://img.sndimg.com/food/image/upload/w_...          Dessert   \n",
      "\n",
      "                                            Keywords  ... 1014 1015  1016  \\\n",
      "0  c(\"Dessert\", \"Low Protein\", \"Low Cholesterol\",...  ...  0.0  0.0   0.0   \n",
      "4  c(\"Low Protein\", \"Vegan\", \"Low Cholesterol\", \"...  ...  0.0  0.0   0.0   \n",
      "7  c(\"Dessert\", \"Healthy\", \"Weeknight\", \"Oven\", \"...  ...  0.0  0.0   0.0   \n",
      "8      c(\"Thai\", \"Asian\", \"Free Of...\", \"< 30 Mins\")  ...  0.0  0.0   0.0   \n",
      "9  c(\"Cookie & Brownie\", \"Fruit\", \"Nuts\", \"Weekni...  ...  0.0  0.0   0.0   \n",
      "\n",
      "   1017  1018  1019  1020  1021  1022  1023  \n",
      "0   0.0   0.0   0.0   0.0   0.0   0.0   0.0  \n",
      "4   0.0   0.0   0.0   0.0   0.0   0.0   0.0  \n",
      "7   0.0   0.0   0.0   0.0   0.0   0.0   0.0  \n",
      "8   0.0   0.0   0.0   0.0   0.0   0.0   0.0  \n",
      "9   0.0   0.0   0.0   0.0   0.0   0.0   0.0  \n",
      "\n",
      "[5 rows x 1050 columns]\n"
     ]
    }
   ],
   "source": [
    "# One-hot coding for RecipeIngredientQuantities\n",
    "\n",
    "ingredient_quantities = df['RecipeIngredientQuantities']\n",
    "vectorizer = HashingVectorizer(n_features=2**10)  # Adjust n_features as needed\n",
    "\n",
    "# Fit and transform the data\n",
    "encoded_quantities = vectorizer.fit_transform(ingredient_quantities)\n",
    "encoded_df = pd.DataFrame(encoded_quantities.toarray())\n",
    "df = pd.concat([df, encoded_df], axis=1)\n",
    "\n",
    "# Drop the original 'RecipeIngredientQuantities' column if needed\n",
    "df.drop('RecipeIngredientQuantities', axis=1, inplace=True)\n",
    "\n",
    "# Display the updated DataFrame\n",
    "print(df.head())\n"
   ]
  },
  {
   "cell_type": "code",
   "execution_count": 20,
   "id": "3a36c4fe-ebdb-40cc-895b-657af2c76bf5",
   "metadata": {},
   "outputs": [
    {
     "name": "stdout",
     "output_type": "stream",
     "text": [
      "   AggregatedRating  NormalizedRating\n",
      "0               4.5             0.875\n",
      "4               4.5             0.875\n",
      "7               4.0             0.750\n",
      "8               5.0             1.000\n",
      "9               4.0             0.750\n"
     ]
    }
   ],
   "source": [
    "#Normalizing the rating\n",
    "scaler = MinMaxScaler()\n",
    "df['NormalizedRating'] = scaler.fit_transform(df[['AggregatedRating']])\n",
    "print(df[['AggregatedRating', 'NormalizedRating']].head())"
   ]
  },
  {
   "cell_type": "code",
   "execution_count": 36,
   "id": "46dbfafd-931d-408e-8663-8d81e4bf7098",
   "metadata": {},
   "outputs": [
    {
     "name": "stdout",
     "output_type": "stream",
     "text": [
      "The maximum value of ReviewCount is: 2273.0\n"
     ]
    }
   ],
   "source": [
    "max_review_count = df['ReviewCount'].max()\n",
    "print(f\"The maximum value of ReviewCount is: {max_review_count}\")\n"
   ]
  },
  {
   "cell_type": "code",
   "execution_count": 42,
   "id": "9ec33982-2805-40fd-b651-e6e6b5cbbe9d",
   "metadata": {},
   "outputs": [
    {
     "name": "stdout",
     "output_type": "stream",
     "text": [
      "   ReviewCount ReviewCountBins\n",
      "0          4.0        Very Low\n",
      "4         11.0             Low\n",
      "7          3.0        Very Low\n",
      "8          2.0        Very Low\n",
      "9          2.0        Very Low\n"
     ]
    }
   ],
   "source": [
    "#ReviewCount Bins\n",
    "bins = [0, 10, 50, 100, 500, float('inf')]\n",
    "labels = ['Very Low', 'Low', 'Medium', 'High', 'Very High']\n",
    "\n",
    "df['ReviewCountBins'] = pd.cut(df['ReviewCount'], bins=bins, labels=labels, right=False)\n",
    "print(df[['ReviewCount', 'ReviewCountBins']].head())"
   ]
  },
  {
   "cell_type": "code",
   "execution_count": 48,
   "id": "e14bdc3a-a91d-49cf-a6ea-7c555847363d",
   "metadata": {},
   "outputs": [
    {
     "data": {
      "image/png": "[encoded data removed]",
      "text/plain": [
       "<Figure size 1000x600 with 1 Axes>"
      ]
     },
     "metadata": {},
     "output_type": "display_data"
    }
   ],
   "source": [
    "plt.figure(figsize=(10, 6))\n",
    "plt.hist(df['ReviewCount'], bins=100, edgecolor='k', alpha=0.7)\n",
    "plt.yscale('log')\n",
    "plt.title('Distribution of Review Count (Log Scale)')\n",
    "plt.xlabel('Review Count')\n",
    "plt.ylabel('Frequency')\n",
    "plt.show()"
   ]
  },
  {
   "cell_type": "code",
   "execution_count": 79,
   "id": "721c7d10-3fba-4a56-b65f-beb528dec840",
   "metadata": {},
   "outputs": [],
   "source": [
    "df['ReviewCount'] = df['ReviewCount'].replace(0, 1)\n",
    "df['AggregatedRating'] = df['AggregatedRating'].replace(0, 1)"
   ]
  },
  {
   "cell_type": "code",
   "execution_count": 81,
   "id": "e9e950ae-8c53-45b4-a8cc-8239eeb3c8d3",
   "metadata": {},
   "outputs": [
    {
     "data": {
      "image/png": "[encoded data removed]",
      "text/plain": [
       "<Figure size 1000x600 with 1 Axes>"
      ]
     },
     "metadata": {},
     "output_type": "display_data"
    }
   ],
   "source": [
    "plt.figure(figsize=(10, 6))\n",
    "plt.scatter(df['ReviewCount'], df['AggregatedRating'], alpha=0.5)\n",
    "plt.title('ReviewCount vs AggregatedRating')\n",
    "plt.xlabel('Review Count')\n",
    "plt.ylabel('Aggregated Rating')\n",
    "plt.show()"
   ]
  },
  {
   "cell_type": "code",
   "execution_count": 99,
   "id": "bbb34820-0f07-4142-bb53-5a2c2c7fcfe9",
   "metadata": {},
   "outputs": [],
   "source": [
    "df['Keywords'] = df['Keywords'].fillna('').astype(str)"
   ]
  },
  {
   "cell_type": "code",
   "execution_count": 101,
   "id": "e64da7ec-4907-4238-b8a6-5132789fdedf",
   "metadata": {},
   "outputs": [],
   "source": [
    "df['dairy-free'] = df['Keywords'].apply(lambda x: 1 if 'dairy-free' in x else 0)\n",
    "df['gluten-free'] = df['Keywords'].apply(lambda x: 1 if 'gluten-free' in x else 0)\n",
    "df['low-carb']= df['Keywords'].apply(lambda x: 1 if 'low-carb' in x else 0)\n",
    "df['vegan'] = df['Keywords'].apply(lambda x: 1 if 'vegan' in x else 0)\n",
    "df['vegetarian'] = df['Keywords'].apply(lambda x: 1 if 'vegetarian' in x else 0)"
   ]
  },
  {
   "cell_type": "code",
   "execution_count": 112,
   "id": "baed8fd7-6d57-49dd-81c3-b6e1e1f0e6af",
   "metadata": {},
   "outputs": [
    {
     "data": {
      "text/html": [
       "<div>\n",
       "<style scoped>\n",
       "    .dataframe tbody tr th:only-of-type {\n",
       "        vertical-align: middle;\n",
       "    }\n",
       "\n",
       "    .dataframe tbody tr th {\n",
       "        vertical-align: top;\n",
       "    }\n",
       "\n",
       "    .dataframe thead th {\n",
       "        text-align: right;\n",
       "    }\n",
       "</style>\n",
       "<table border=\"1\" class=\"dataframe\">\n",
       "  <thead>\n",
       "    <tr style=\"text-align: right;\">\n",
       "      <th></th>\n",
       "      <th>RecipeId</th>\n",
       "      <th>Name</th>\n",
       "      <th>AuthorId</th>\n",
       "      <th>CookTime</th>\n",
       "      <th>PrepTime</th>\n",
       "      <th>TotalTime</th>\n",
       "      <th>Description</th>\n",
       "      <th>Images</th>\n",
       "      <th>RecipeCategory</th>\n",
       "      <th>Keywords</th>\n",
       "      <th>...</th>\n",
       "      <th>1023</th>\n",
       "      <th>NormalizedRating</th>\n",
       "      <th>ReviewCountBins</th>\n",
       "      <th>Rating_x_Ingredients</th>\n",
       "      <th>ReviewCount_x_Ingredients</th>\n",
       "      <th>dairy-free</th>\n",
       "      <th>gluten-free</th>\n",
       "      <th>low-carb</th>\n",
       "      <th>vegan</th>\n",
       "      <th>vegetarian</th>\n",
       "    </tr>\n",
       "  </thead>\n",
       "  <tbody>\n",
       "    <tr>\n",
       "      <th>0</th>\n",
       "      <td>38.0</td>\n",
       "      <td>Low-Fat Berry Blue Frozen Dessert</td>\n",
       "      <td>1533.0</td>\n",
       "      <td>3.306840e-05</td>\n",
       "      <td>0.000347</td>\n",
       "      <td>3.409654e-05</td>\n",
       "      <td>Make and share this Low-Fat Berry Blue Frozen ...</td>\n",
       "      <td>c(\"https://img.sndimg.com/food/image/upload/w_...</td>\n",
       "      <td>Frozen Desserts</td>\n",
       "      <td>c(\"Dessert\", \"Low Protein\", \"Low Cholesterol\",...</td>\n",
       "      <td>...</td>\n",
       "      <td>0.0</td>\n",
       "      <td>0.875</td>\n",
       "      <td>Very Low</td>\n",
       "      <td>769.05</td>\n",
       "      <td>683.6</td>\n",
       "      <td>0</td>\n",
       "      <td>0</td>\n",
       "      <td>0</td>\n",
       "      <td>0</td>\n",
       "      <td>0</td>\n",
       "    </tr>\n",
       "    <tr>\n",
       "      <th>4</th>\n",
       "      <td>42.0</td>\n",
       "      <td>Cabbage Soup</td>\n",
       "      <td>1538.0</td>\n",
       "      <td>6.885502e-07</td>\n",
       "      <td>0.000154</td>\n",
       "      <td>1.148032e-06</td>\n",
       "      <td>Make and share this Cabbage Soup recipe from F...</td>\n",
       "      <td>\"https://img.sndimg.com/food/image/upload/w_55...</td>\n",
       "      <td>Vegetable</td>\n",
       "      <td>c(\"Low Protein\", \"Vegan\", \"Low Cholesterol\", \"...</td>\n",
       "      <td>...</td>\n",
       "      <td>0.0</td>\n",
       "      <td>0.875</td>\n",
       "      <td>Low</td>\n",
       "      <td>466.20</td>\n",
       "      <td>1139.6</td>\n",
       "      <td>0</td>\n",
       "      <td>0</td>\n",
       "      <td>0</td>\n",
       "      <td>0</td>\n",
       "      <td>0</td>\n",
       "    </tr>\n",
       "    <tr>\n",
       "      <th>7</th>\n",
       "      <td>45.0</td>\n",
       "      <td>Buttermilk Pie With Gingersnap Crumb Crust</td>\n",
       "      <td>1580.0</td>\n",
       "      <td>1.147839e-06</td>\n",
       "      <td>0.000231</td>\n",
       "      <td>1.836851e-06</td>\n",
       "      <td>Make and share this Buttermilk Pie With Ginger...</td>\n",
       "      <td>\"https://img.sndimg.com/food/image/upload/w_55...</td>\n",
       "      <td>Pie</td>\n",
       "      <td>c(\"Dessert\", \"Healthy\", \"Weeknight\", \"Oven\", \"...</td>\n",
       "      <td>...</td>\n",
       "      <td>0.0</td>\n",
       "      <td>0.750</td>\n",
       "      <td>Very Low</td>\n",
       "      <td>912.00</td>\n",
       "      <td>684.0</td>\n",
       "      <td>0</td>\n",
       "      <td>0</td>\n",
       "      <td>0</td>\n",
       "      <td>0</td>\n",
       "      <td>0</td>\n",
       "    </tr>\n",
       "    <tr>\n",
       "      <th>8</th>\n",
       "      <td>46.0</td>\n",
       "      <td>A Jad - Cucumber Pickle</td>\n",
       "      <td>1533.0</td>\n",
       "      <td>0.000000e+00</td>\n",
       "      <td>0.000193</td>\n",
       "      <td>5.740159e-07</td>\n",
       "      <td>Make and share this A Jad - Cucumber Pickle re...</td>\n",
       "      <td>character(0)</td>\n",
       "      <td>Vegetable</td>\n",
       "      <td>c(\"Thai\", \"Asian\", \"Free Of...\", \"&lt; 30 Mins\")</td>\n",
       "      <td>...</td>\n",
       "      <td>0.0</td>\n",
       "      <td>1.000</td>\n",
       "      <td>Very Low</td>\n",
       "      <td>21.50</td>\n",
       "      <td>8.6</td>\n",
       "      <td>0</td>\n",
       "      <td>0</td>\n",
       "      <td>0</td>\n",
       "      <td>0</td>\n",
       "      <td>0</td>\n",
       "    </tr>\n",
       "    <tr>\n",
       "      <th>9</th>\n",
       "      <td>47.0</td>\n",
       "      <td>Butter Pecan Cookies</td>\n",
       "      <td>1573.0</td>\n",
       "      <td>2.062972e-07</td>\n",
       "      <td>0.000424</td>\n",
       "      <td>1.469481e-06</td>\n",
       "      <td>Make and share this Butter Pecan Cookies recip...</td>\n",
       "      <td>c(\"https://img.sndimg.com/food/image/upload/w_...</td>\n",
       "      <td>Dessert</td>\n",
       "      <td>c(\"Cookie &amp; Brownie\", \"Fruit\", \"Nuts\", \"Weekni...</td>\n",
       "      <td>...</td>\n",
       "      <td>0.0</td>\n",
       "      <td>0.750</td>\n",
       "      <td>Very Low</td>\n",
       "      <td>276.00</td>\n",
       "      <td>138.0</td>\n",
       "      <td>0</td>\n",
       "      <td>0</td>\n",
       "      <td>0</td>\n",
       "      <td>0</td>\n",
       "      <td>0</td>\n",
       "    </tr>\n",
       "  </tbody>\n",
       "</table>\n",
       "<p>5 rows × 1059 columns</p>\n",
       "</div>"
      ],
      "text/plain": [
       "   RecipeId                                        Name  AuthorId  \\\n",
       "0      38.0           Low-Fat Berry Blue Frozen Dessert    1533.0   \n",
       "4      42.0                                Cabbage Soup    1538.0   \n",
       "7      45.0  Buttermilk Pie With Gingersnap Crumb Crust    1580.0   \n",
       "8      46.0                     A Jad - Cucumber Pickle    1533.0   \n",
       "9      47.0                        Butter Pecan Cookies    1573.0   \n",
       "\n",
       "       CookTime  PrepTime     TotalTime  \\\n",
       "0  3.306840e-05  0.000347  3.409654e-05   \n",
       "4  6.885502e-07  0.000154  1.148032e-06   \n",
       "7  1.147839e-06  0.000231  1.836851e-06   \n",
       "8  0.000000e+00  0.000193  5.740159e-07   \n",
       "9  2.062972e-07  0.000424  1.469481e-06   \n",
       "\n",
       "                                         Description  \\\n",
       "0  Make and share this Low-Fat Berry Blue Frozen ...   \n",
       "4  Make and share this Cabbage Soup recipe from F...   \n",
       "7  Make and share this Buttermilk Pie With Ginger...   \n",
       "8  Make and share this A Jad - Cucumber Pickle re...   \n",
       "9  Make and share this Butter Pecan Cookies recip...   \n",
       "\n",
       "                                              Images   RecipeCategory  \\\n",
       "0  c(\"https://img.sndimg.com/food/image/upload/w_...  Frozen Desserts   \n",
       "4  \"https://img.sndimg.com/food/image/upload/w_55...        Vegetable   \n",
       "7  \"https://img.sndimg.com/food/image/upload/w_55...              Pie   \n",
       "8                                       character(0)        Vegetable   \n",
       "9  c(\"https://img.sndimg.com/food/image/upload/w_...          Dessert   \n",
       "\n",
       "                                            Keywords  ... 1023  \\\n",
       "0  c(\"Dessert\", \"Low Protein\", \"Low Cholesterol\",...  ...  0.0   \n",
       "4  c(\"Low Protein\", \"Vegan\", \"Low Cholesterol\", \"...  ...  0.0   \n",
       "7  c(\"Dessert\", \"Healthy\", \"Weeknight\", \"Oven\", \"...  ...  0.0   \n",
       "8      c(\"Thai\", \"Asian\", \"Free Of...\", \"< 30 Mins\")  ...  0.0   \n",
       "9  c(\"Cookie & Brownie\", \"Fruit\", \"Nuts\", \"Weekni...  ...  0.0   \n",
       "\n",
       "  NormalizedRating  ReviewCountBins  Rating_x_Ingredients  \\\n",
       "0            0.875         Very Low                769.05   \n",
       "4            0.875              Low                466.20   \n",
       "7            0.750         Very Low                912.00   \n",
       "8            1.000         Very Low                 21.50   \n",
       "9            0.750         Very Low                276.00   \n",
       "\n",
       "   ReviewCount_x_Ingredients  dairy-free  gluten-free  low-carb  vegan  \\\n",
       "0                      683.6           0            0         0      0   \n",
       "4                     1139.6           0            0         0      0   \n",
       "7                      684.0           0            0         0      0   \n",
       "8                        8.6           0            0         0      0   \n",
       "9                      138.0           0            0         0      0   \n",
       "\n",
       "   vegetarian  \n",
       "0           0  \n",
       "4           0  \n",
       "7           0  \n",
       "8           0  \n",
       "9           0  \n",
       "\n",
       "[5 rows x 1059 columns]"
      ]
     },
     "execution_count": 112,
     "metadata": {},
     "output_type": "execute_result"
    }
   ],
   "source": [
    "df.head()"
   ]
  },
  {
   "cell_type": "code",
   "execution_count": 128,
   "id": "d59c2c4d-143e-4581-85fc-b1fd7a36ba48",
   "metadata": {},
   "outputs": [],
   "source": [
    "def categorize_cuisine(Keywords):\n",
    "    if 'Italian' in Keywords:\n",
    "        return 'Italian'\n",
    "    elif 'Mexican' in Keywords:\n",
    "        return 'Mexican'\n",
    "    elif 'Chinese' in Keywords:\n",
    "        return 'Chinese'\n",
    "    elif 'Indian' in Keywords:\n",
    "        return 'Indian'\n",
    "    elif 'Japanese' in Keywords:\n",
    "        return 'Japanese'\n",
    "    elif 'Thai' in Keywords:\n",
    "        return 'Thai'\n",
    "    elif 'Asian' in Keywords:\n",
    "        return 'Asian'\n",
    "    elif 'Persian' in Keywords:\n",
    "        return 'Persian'\n",
    "    elif 'American' in Keywords:\n",
    "        return 'American'\n",
    "    # Add more cuisine types as needed\n",
    "    else:\n",
    "        return 'Other'"
   ]
  },
  {
   "cell_type": "code",
   "execution_count": 141,
   "id": "42266457-2cbb-4766-a2ca-b3cf9efe22fb",
   "metadata": {},
   "outputs": [
    {
     "name": "stdout",
     "output_type": "stream",
     "text": [
      "                                            Keywords CuisineType\n",
      "0  c(\"Dessert\", \"Low Protein\", \"Low Cholesterol\",...       Other\n",
      "4  c(\"Low Protein\", \"Vegan\", \"Low Cholesterol\", \"...       Other\n",
      "7  c(\"Dessert\", \"Healthy\", \"Weeknight\", \"Oven\", \"...       Other\n",
      "8      c(\"Thai\", \"Asian\", \"Free Of...\", \"< 30 Mins\")       Other\n",
      "9  c(\"Cookie & Brownie\", \"Fruit\", \"Nuts\", \"Weekni...       Other\n"
     ]
    }
   ],
   "source": [
    "df['CuisineType'] = df['Keywords'].apply(lambda x: categorize_cuisine(x.split(',')))\n",
    "print(df[['Keywords', 'CuisineType']].head(5))"
   ]
  },
  {
   "cell_type": "code",
   "execution_count": 155,
   "id": "b5a87ec9-823d-4442-afcf-50e1745f3f4b",
   "metadata": {},
   "outputs": [
    {
     "name": "stdout",
     "output_type": "stream",
     "text": [
      "Empty DataFrame\n",
      "Columns: [RecipeId, Name, AuthorId, CookTime, PrepTime, TotalTime, Description, Images, RecipeCategory, Keywords, RecipeIngredientParts, RecipeInstructions, AggregatedRating, ReviewCount, Calories, FatContent, SaturatedFatContent, CholesterolContent, SodiumContent, CarbohydrateContent, FiberContent, SugarContent, ProteinContent, RecipeServings, RecipeYield, AuthorName, 0, 1, 2, 3, 4, 5, 6, 7, 8, 9, 10, 11, 12, 13, 14, 15, 16, 17, 18, 19, 20, 21, 22, 23, 24, 25, 26, 27, 28, 29, 30, 31, 32, 33, 34, 35, 36, 37, 38, 39, 40, 41, 42, 43, 44, 45, 46, 47, 48, 49, 50, 51, 52, 53, 54, 55, 56, 57, 58, 59, 60, 61, 62, 63, 64, 65, 66, 67, 68, 69, 70, 71, 72, 73, ...]\n",
      "Index: []\n",
      "\n",
      "[0 rows x 1060 columns]\n"
     ]
    }
   ],
   "source": [
    "#Testing the feature:\n",
    "italian_recipes = df[df['CuisineType'] == 'Italian']\n",
    "print(italian_recipes)"
   ]
  },
  {
   "cell_type": "code",
   "execution_count": 151,
   "id": "2f25f1c3-d8cf-4c94-80b4-917f8232d24a",
   "metadata": {},
   "outputs": [
    {
     "name": "stdout",
     "output_type": "stream",
     "text": [
      "Empty DataFrame\n",
      "Columns: [RecipeId, Name, AuthorId, CookTime, PrepTime, TotalTime, Description, Images, RecipeCategory, Keywords, RecipeIngredientParts, RecipeInstructions, AggregatedRating, ReviewCount, Calories, FatContent, SaturatedFatContent, CholesterolContent, SodiumContent, CarbohydrateContent, FiberContent, SugarContent, ProteinContent, RecipeServings, RecipeYield, AuthorName, 0, 1, 2, 3, 4, 5, 6, 7, 8, 9, 10, 11, 12, 13, 14, 15, 16, 17, 18, 19, 20, 21, 22, 23, 24, 25, 26, 27, 28, 29, 30, 31, 32, 33, 34, 35, 36, 37, 38, 39, 40, 41, 42, 43, 44, 45, 46, 47, 48, 49, 50, 51, 52, 53, 54, 55, 56, 57, 58, 59, 60, 61, 62, 63, 64, 65, 66, 67, 68, 69, 70, 71, 72, 73, ...]\n",
      "Index: []\n",
      "\n",
      "[0 rows x 1060 columns]\n"
     ]
    }
   ],
   "source": [
    "#Testing the feature again.\n",
    "italian_recipes = df[df['CuisineType'] == 'Indian']\n",
    "print(italian_recipes)"
   ]
  },
  {
   "cell_type": "code",
   "execution_count": 159,
   "id": "566cf01f-df8e-48fe-bf13-6eb4ff074d9b",
   "metadata": {},
   "outputs": [],
   "source": [
    "df.to_csv('Recipes_Features.csv', index=False)"
   ]
  },
  {
   "cell_type": "code",
   "execution_count": null,
   "id": "ccb44cc1-d9a8-4e61-ab98-fda23c90cea7",
   "metadata": {},
   "outputs": [],
   "source": []
  }
 ],
 "metadata": {
  "kernelspec": {
   "display_name": "Python 3 (ipykernel)",
   "language": "python",
   "name": "python3"
  },
  "language_info": {
   "codemirror_mode": {
    "name": "ipython",
    "version": 3
   },
   "file_extension": ".py",
   "mimetype": "text/x-python",
   "name": "python",
   "nbconvert_exporter": "python",
   "pygments_lexer": "ipython3",
   "version": "3.11.7"
  }
 },
 "nbformat": 4,
 "nbformat_minor": 5
}
